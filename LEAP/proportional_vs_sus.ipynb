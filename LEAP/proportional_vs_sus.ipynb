{
 "cells": [
  {
   "cell_type": "markdown",
   "id": "ae9dbbc4-ebe8-4f52-831d-bfed769ebd74",
   "metadata": {},
   "source": [
    "# Comparing Proportional Selection and SUS Selection\n",
    "In this notebook, I will compare the results of using proportional selection and SUS selection. "
   ]
  },
  {
   "cell_type": "code",
   "execution_count": 21,
   "id": "67391eaa-e9c3-41ab-847b-649d0d4ab18f",
   "metadata": {},
   "outputs": [],
   "source": [
    "import os\n",
    "import matplotlib.pyplot as plt\n",
    "from tqdm import tqdm\n",
    "from distributed import Client, LocalCluster\n",
    "\n",
    "\n",
    "from leap_ec.algorithm import generational_ea\n",
    "from leap_ec.individual import Individual\n",
    "from leap_ec.representation import Representation\n",
    "import leap_ec.ops as ops\n",
    "from leap_ec import probe\n",
    "from leap_ec.global_vars import context\n",
    "from leap_ec.distrib import synchronous\n",
    "\n",
    "\n",
    "from leap_ec.real_rep.problems import LangermannProblem\n",
    "from leap_ec.real_rep.ops import mutate_gaussian\n",
    "from leap_ec.real_rep.initializers import create_real_vector"
   ]
  },
  {
   "cell_type": "markdown",
   "id": "103415b7-cefb-4240-babb-3aebb19038ac",
   "metadata": {},
   "source": [
    "## Define Parameters"
   ]
  },
  {
   "cell_type": "code",
   "execution_count": 22,
   "id": "8f4c09fe-7a0c-4cf1-ac82-f2002a37ec9d",
   "metadata": {},
   "outputs": [],
   "source": [
    "MAX_GEN = 1000  # number of generations per iteration\n",
    "POP_SIZE = 10     # population size\n",
    "NUM_ITER = 100    # total number of iterations per selection operator\n",
    "BOUNDS = [[0, 10]]*2  # bounds for LangermannProblem\n",
    "CONFIDENCE = 0.99 # confidence interval for plot"
   ]
  },
  {
   "cell_type": "markdown",
   "id": "e180f4d4-2ae9-4772-aad3-c022095ba5e4",
   "metadata": {},
   "source": [
    "## Run Proportional and Track Stats\n",
    "First code cell tests a synchronous evaluations scheme (currently very slow for unknown reasons)."
   ]
  },
  {
   "cell_type": "code",
   "execution_count": 23,
   "id": "50fc5b76-93ca-412c-98fa-f69670e83244",
   "metadata": {},
   "outputs": [],
   "source": [
    "# with Client(LocalCluster(n_workers=os.cpu_count(), threads_per_worker=1, processes=True)) as client:\n",
    "#     with open('./proportional_stats.csv', 'w') as prop_file:\n",
    "#         prop_stats_probe = probe.FitnessStatsCSVProbe(stream=prop_file, context=context)\n",
    "#         for i in tqdm(range(NUM_ITER)):\n",
    "#             prop_stats_probe.bsf_ind = None\n",
    "#             ea = generational_ea(max_generations=MAX_GEN, pop_size=POP_SIZE,\n",
    "#                                  problem=LangermannProblem(maximize=True),\n",
    "#                                  init_evaluate=synchronous.eval_population(client=client),\n",
    "#                                  representation=Representation(\n",
    "#                                      initialize=create_real_vector(bounds=BOUNDS)\n",
    "#                                  ),\n",
    "#                                  pipeline=[\n",
    "#                                      ops.proportional_selection(offset='pop-min'),\n",
    "#                                      ops.clone,\n",
    "#                                      ops.uniform_crossover(p_swap=0.2),\n",
    "#                                      mutate_gaussian(std=0.5, expected_num_mutations='isotropic'),\n",
    "#                                      synchronous.eval_pool(size=POP_SIZE,client=client),\n",
    "#                                      prop_stats_probe\n",
    "#                                  ])\n",
    "#             list(ea);"
   ]
  },
  {
   "cell_type": "code",
   "execution_count": 25,
   "id": "061946f8-7734-4086-bfe5-124a30ff103d",
   "metadata": {},
   "outputs": [
    {
     "name": "stderr",
     "output_type": "stream",
     "text": [
      "100%|██████████| 100/100 [03:32<00:00,  2.13s/it]\n"
     ]
    }
   ],
   "source": [
    "with open('./proportional_stats.csv', 'w') as prop_file:\n",
    "    prop_stats_probe = probe.FitnessStatsCSVProbe(stream=prop_file, context=context)\n",
    "    for i in tqdm(range(NUM_ITER)):\n",
    "        prop_stats_probe.bsf_ind = None\n",
    "        ea = generational_ea(max_generations=MAX_GEN, pop_size=POP_SIZE,\n",
    "                             problem=LangermannProblem(maximize=True),\n",
    "                             representation=Representation(\n",
    "                                 initialize=create_real_vector(bounds=BOUNDS)\n",
    "                             ),\n",
    "                             pipeline=[\n",
    "                                 ops.proportional_selection(offset='pop-min'),\n",
    "                                 ops.clone,\n",
    "                                 ops.uniform_crossover(p_swap=0.2),\n",
    "                                 mutate_gaussian(std=0.5, expected_num_mutations='isotropic'),\n",
    "                                 ops.evaluate,\n",
    "                                 ops.pool(size=POP_SIZE),\n",
    "                                 prop_stats_probe\n",
    "                             ])\n",
    "        list(ea);"
   ]
  },
  {
   "cell_type": "markdown",
   "id": "c7c1485d-2587-4d13-9426-18689fc218ff",
   "metadata": {},
   "source": [
    "## Run SUS and Track Stats"
   ]
  },
  {
   "cell_type": "code",
   "execution_count": 26,
   "id": "6cac3f1f-2a55-4865-8afd-a65db7e5c1b2",
   "metadata": {},
   "outputs": [
    {
     "name": "stderr",
     "output_type": "stream",
     "text": [
      "100%|██████████| 100/100 [03:24<00:00,  2.05s/it]\n"
     ]
    }
   ],
   "source": [
    "sus_file = open('./SUS_stats.csv', 'w')\n",
    "sus_stats_probe = probe.FitnessStatsCSVProbe(stream=sus_file, context=context)\n",
    "for i in tqdm(range(NUM_ITER)):\n",
    "    sus_stats_probe.bsf_ind = None\n",
    "    ea = generational_ea(max_generations=MAX_GEN, pop_size=POP_SIZE,\n",
    "                         problem=LangermannProblem(maximize=True),\n",
    "                         representation=Representation(\n",
    "                             initialize=create_real_vector(bounds=BOUNDS)\n",
    "                         ),\n",
    "                         pipeline=[\n",
    "                             ops.sus_selection(n=POP_SIZE, offset='pop-min'),\n",
    "                             ops.clone,\n",
    "                             ops.uniform_crossover(p_swap=0.2),\n",
    "                             mutate_gaussian(std=0.5, expected_num_mutations='isotropic'),\n",
    "                             ops.evaluate,\n",
    "                             ops.pool(size=POP_SIZE),\n",
    "                             sus_stats_probe\n",
    "                         ])\n",
    "    list(ea);\n",
    "sus_file.close()"
   ]
  },
  {
   "cell_type": "markdown",
   "id": "447c0317-fc96-4c5d-8e22-0fc62a05c3d4",
   "metadata": {},
   "source": [
    "## Data Manipulation"
   ]
  },
  {
   "cell_type": "code",
   "execution_count": 27,
   "id": "a708cb2d-5f0d-4b11-b71b-8fd68a8c6c7e",
   "metadata": {},
   "outputs": [],
   "source": [
    "import pandas as pd\n",
    "from scipy import stats\n",
    "import numpy as np\n",
    "\n",
    "# read in data and calculate averages\n",
    "prop_df = pd.read_csv('proportional_stats.csv')\n",
    "sus_df = pd.read_csv('SUS_stats.csv')\n",
    "\n",
    "prop_df_step = prop_df.groupby('step').mean()\n",
    "sus_df_step = sus_df.groupby('step').mean()\n",
    "\n",
    "sus_df_step.to_csv('SUS_avg_stats.csv')\n",
    "prop_df_step.to_csv('prop_avg_stats.csv')\n",
    "\n",
    "prop_bsf = prop_df_step[' bsf'].values\n",
    "sus_bsf = sus_df_step[' bsf'].values"
   ]
  },
  {
   "cell_type": "markdown",
   "id": "90b26ba2-3532-4ee3-ba05-411697c73fb2",
   "metadata": {},
   "source": [
    "## Compute Confidence Intervals"
   ]
  },
  {
   "cell_type": "code",
   "execution_count": 28,
   "id": "6efda28b-3049-4de8-9cec-8a544b99c409",
   "metadata": {},
   "outputs": [
    {
     "name": "stdout",
     "output_type": "stream",
     "text": [
      "[1.286528014869905, 1.6257750787869172, 1.845300864219922, 1.9768914954068326, 2.0487917118671386, 2.1486201637287055, 2.2217436404288264, 2.3064308002895184, 2.3350434885004097, 2.382099553105276]\n",
      "[1.8156476559847667, 2.16438676288721, 2.385111761999357, 2.537733304851122, 2.6195904253057702, 2.7053052017112913, 2.7715817901959374, 2.850649243510191, 2.870978648030478, 2.916480608276998]\n",
      "[1.3779717650188563, 1.727145041956802, 1.9057794201512301, 2.0750250542359527, 2.1784066278929486, 2.259614838794253, 2.3298953444840724, 2.4264435371385336, 2.4875477683108027, 2.579914889191088]\n",
      "[1.9184027714371168, 2.234775425659409, 2.4209557754876103, 2.5927763871655642, 2.697381336589254, 2.7679251328230365, 2.8478486070384377, 2.947738093000705, 3.010643977183461, 3.095927617000808]\n"
     ]
    }
   ],
   "source": [
    "# create lists to store +/- (up/down) confidence intervals for each generation\n",
    "prop_conf_up = []\n",
    "prop_conf_down = []\n",
    "sus_conf_up = []\n",
    "sus_conf_down = []\n",
    "for i in range(MAX_GEN):\n",
    "    prop_step_data = prop_df[prop_df['step'] == i][' bsf'].values\n",
    "    sus_step_data = sus_df[sus_df['step'] == i][' bsf'].values\n",
    "    prop_int_up, prop_int_down = stats.t.interval(CONFIDENCE, len(prop_step_data)-1, loc=prop_bsf[i], scale=stats.sem(prop_step_data)) \n",
    "    sus_int_up, sus_int_down = stats.t.interval(CONFIDENCE, len(sus_step_data)-1, loc=sus_bsf[i], scale=stats.sem(sus_step_data))\n",
    "    prop_conf_up.append(prop_int_up)\n",
    "    prop_conf_down.append(prop_int_down)\n",
    "    sus_conf_up.append(sus_int_up)\n",
    "    sus_conf_down.append(sus_int_down)\n",
    "    \n",
    "print(prop_conf_up[0:10])\n",
    "print(prop_conf_down[0:10])\n",
    "print(sus_conf_up[0:10])\n",
    "print(sus_conf_down[0:10])"
   ]
  },
  {
   "cell_type": "markdown",
   "id": "9c1b8c26-3608-459f-86d1-df15aa3615ef",
   "metadata": {},
   "source": [
    "## Plot Result"
   ]
  },
  {
   "cell_type": "code",
   "execution_count": 29,
   "id": "f72c0489-7427-448d-95d5-7458e59df2db",
   "metadata": {},
   "outputs": [
    {
     "data": {
      "image/png": "[encoded data removed]",
      "text/plain": [
       "<Figure size 432x288 with 1 Axes>"
      ]
     },
     "metadata": {
      "needs_background": "light"
     },
     "output_type": "display_data"
    }
   ],
   "source": [
    "steps = list(range(MAX_GEN))\n",
    "plt.plot(steps, prop_bsf, color='blue', label='Proportional')\n",
    "plt.fill_between(steps, prop_conf_up, prop_conf_down, alpha=0.5)\n",
    "plt.plot(steps, sus_bsf, color='red', label='SUS')\n",
    "plt.fill_between(steps, sus_conf_up, sus_conf_down, alpha=0.5)\n",
    "plt.legend()\n",
    "plt.ylabel('Best-so-far fitness')\n",
    "plt.xlabel('Generation')\n",
    "plt.title('Average Best-so-far Fitness vs Generations')\n",
    "plt.savefig(f'prop_vs_sus_bsf_conf{CONFIDENCE}_langermann.png')\n",
    "\n",
    "plt.show()\n"
   ]
  },
  {
   "cell_type": "code",
   "execution_count": null,
   "id": "bf518f5c-ee97-458e-8d93-ff83b5548a00",
   "metadata": {},
   "outputs": [],
   "source": []
  }
 ],
 "metadata": {
  "kernelspec": {
   "display_name": "Python 3",
   "language": "python",
   "name": "python3"
  },
  "language_info": {
   "codemirror_mode": {
    "name": "ipython",
    "version": 3
   },
   "file_extension": ".py",
   "mimetype": "text/x-python",
   "name": "python",
   "nbconvert_exporter": "python",
   "pygments_lexer": "ipython3",
   "version": "3.9.4"
  }
 },
 "nbformat": 4,
 "nbformat_minor": 5
}
