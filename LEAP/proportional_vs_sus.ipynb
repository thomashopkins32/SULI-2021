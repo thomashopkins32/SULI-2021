{
 "cells": [
  {
   "cell_type": "markdown",
   "id": "ae9dbbc4-ebe8-4f52-831d-bfed769ebd74",
   "metadata": {},
   "source": [
    "# Comparing Proportional Selection and SUS Selection\n",
    "In this notebook, I will compare the results of using proportional selection, SUS selection, and tournament selection on the 2D step problem."
   ]
  },
  {
   "cell_type": "code",
   "execution_count": 1,
   "id": "67391eaa-e9c3-41ab-847b-649d0d4ab18f",
   "metadata": {},
   "outputs": [],
   "source": [
    "import matplotlib.pyplot as plt\n",
    "from tqdm import tqdm\n",
    "\n",
    "from leap_ec.algorithm import generational_ea\n",
    "from leap_ec.individual import Individual\n",
    "from leap_ec.representation import Representation\n",
    "import leap_ec.ops as ops\n",
    "from leap_ec import probe\n",
    "from leap_ec.global_vars import context\n",
    "\n",
    "from leap_ec.real_rep.problems import StepProblem\n",
    "from leap_ec.real_rep.ops import mutate_gaussian\n",
    "from leap_ec.real_rep.initializers import create_real_vector"
   ]
  },
  {
   "cell_type": "code",
   "execution_count": 2,
   "id": "8f4c09fe-7a0c-4cf1-ac82-f2002a37ec9d",
   "metadata": {},
   "outputs": [],
   "source": [
    "MAX_GEN = 1000\n",
    "POP_SIZE = 10"
   ]
  },
  {
   "cell_type": "code",
   "execution_count": 3,
   "id": "061946f8-7734-4086-bfe5-124a30ff103d",
   "metadata": {},
   "outputs": [
    {
     "name": "stderr",
     "output_type": "stream",
     "text": [
      " 53%|█████▎    | 53/100 [00:26<00:22,  2.06it/s]/home/thomas/Documents/ORNL/LEAP/leap_ec/ops.py:558: RuntimeWarning: invalid value encountered in true_divide\n",
      "  proportions = values / population_total\n",
      "100%|██████████| 100/100 [00:49<00:00,  2.04it/s]\n"
     ]
    }
   ],
   "source": [
    "prop_file = open('./proportional_stats.csv', 'w')\n",
    "prop_stats_probe = probe.FitnessStatsCSVProbe(stream=prop_file, context=context)\n",
    "for i in tqdm(range(100)):\n",
    "    prop_stats_probe.bsf_ind = None\n",
    "    ea = generational_ea(max_generations=MAX_GEN, pop_size=POP_SIZE,\n",
    "                         problem=StepProblem(maximize=True),\n",
    "                         representation=Representation(\n",
    "                             individual_cls=Individual,\n",
    "                             initialize=create_real_vector(bounds=[[-5.12, 5.12]]*2)\n",
    "                         ),\n",
    "                         pipeline=[\n",
    "                             ops.proportional_selection(offset='pop-min'),\n",
    "                             ops.clone,\n",
    "                             ops.uniform_crossover,\n",
    "                             mutate_gaussian(std=0.5, expected_num_mutations='isotropic'),\n",
    "                             ops.evaluate,\n",
    "                             ops.pool(size=POP_SIZE),\n",
    "                             prop_stats_probe\n",
    "                         ])\n",
    "    list(ea);\n",
    "prop_file.close()"
   ]
  },
  {
   "cell_type": "code",
   "execution_count": 4,
   "id": "6cac3f1f-2a55-4865-8afd-a65db7e5c1b2",
   "metadata": {},
   "outputs": [
    {
     "name": "stderr",
     "output_type": "stream",
     "text": [
      "100%|██████████| 100/100 [00:42<00:00,  2.33it/s]\n"
     ]
    }
   ],
   "source": [
    "sus_file = open('./SUS_stats.csv', 'w')\n",
    "sus_stats_probe = probe.FitnessStatsCSVProbe(stream=sus_file, context=context)\n",
    "for i in tqdm(range(100)):\n",
    "    sus_stats_probe.bsf_ind = None\n",
    "    ea = generational_ea(max_generations=MAX_GEN, pop_size=POP_SIZE,\n",
    "                         problem=StepProblem(maximize=True),\n",
    "                         representation=Representation(\n",
    "                             individual_cls=Individual,\n",
    "                             initialize=create_real_vector(bounds=[[-5.12, 5.12]]*2)\n",
    "                         ),\n",
    "                         pipeline=[\n",
    "                             ops.sus_selection(offset='pop-min'),\n",
    "                             ops.clone,\n",
    "                             ops.uniform_crossover,\n",
    "                             mutate_gaussian(std=0.5, expected_num_mutations='isotropic'),\n",
    "                             ops.evaluate,\n",
    "                             ops.pool(size=POP_SIZE),\n",
    "                             sus_stats_probe\n",
    "                         ])\n",
    "    list(ea);\n",
    "sus_file.close()"
   ]
  },
  {
   "cell_type": "code",
   "execution_count": 5,
   "id": "a708cb2d-5f0d-4b11-b71b-8fd68a8c6c7e",
   "metadata": {},
   "outputs": [
    {
     "name": "stdout",
     "output_type": "stream",
     "text": [
      "       bsf   mean_fitness   std_fitness   min_fitness   max_fitness\n",
      "step                                                               \n",
      "0     6.09          1.549      3.069681         -3.67          6.09\n",
      "1     6.80          3.333      2.278884         -0.73          6.59\n",
      "2     7.45          4.607      1.778320          1.43          7.26\n",
      "3     8.07          5.596      1.494322          3.08          7.90\n",
      "4     8.71          6.538      1.322581          4.31          8.57\n"
     ]
    }
   ],
   "source": [
    "import pandas as pd\n",
    "\n",
    "prop_df = pd.read_csv('proportional_stats.csv')\n",
    "sus_df = pd.read_csv('SUS_stats.csv')\n",
    "\n",
    "prop_df = prop_df.groupby('step').mean()\n",
    "prop_df.to_csv('prop_avg_stats.csv')\n",
    "print(prop_df.head())"
   ]
  },
  {
   "cell_type": "code",
   "execution_count": null,
   "id": "f72c0489-7427-448d-95d5-7458e59df2db",
   "metadata": {},
   "outputs": [],
   "source": []
  }
 ],
 "metadata": {
  "kernelspec": {
   "display_name": "Python 3",
   "language": "python",
   "name": "python3"
  },
  "language_info": {
   "codemirror_mode": {
    "name": "ipython",
    "version": 3
   },
   "file_extension": ".py",
   "mimetype": "text/x-python",
   "name": "python",
   "nbconvert_exporter": "python",
   "pygments_lexer": "ipython3",
   "version": "3.9.4"
  }
 },
 "nbformat": 4,
 "nbformat_minor": 5
}
