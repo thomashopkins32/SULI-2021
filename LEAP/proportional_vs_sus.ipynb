{
 "cells": [
  {
   "cell_type": "markdown",
   "id": "ae9dbbc4-ebe8-4f52-831d-bfed769ebd74",
   "metadata": {},
   "source": [
    "# Comparing Proportional Selection and SUS Selection\n",
    "In this notebook, I will compare the results of using proportional selection, SUS selection, and tournament selection on the 2D step problem."
   ]
  },
  {
   "cell_type": "code",
   "execution_count": 1,
   "id": "67391eaa-e9c3-41ab-847b-649d0d4ab18f",
   "metadata": {},
   "outputs": [],
   "source": [
    "%matplotlib widget\n",
    "from leap_ec.algorithm import generational_ea\n",
    "from leap_ec.individual import Individual\n",
    "from leap_ec.representation import Representation\n",
    "import leap_ec.ops as ops\n",
    "\n",
    "\n",
    "from leap_ec.real_rep.problems import StepProblem\n",
    "from leap_ec.real_rep.ops import mutate_gaussian\n",
    "from leap_ec.real_rep.initializers import create_real_vector"
   ]
  },
  {
   "cell_type": "code",
   "execution_count": 2,
   "id": "a65fd3a3-bb26-4c44-b839-715c4daedb7c",
   "metadata": {},
   "outputs": [
    {
     "data": {
      "application/vnd.jupyter.widget-view+json": {
       "model_id": "4eee40952fd84b02808c1917e7ff8e95",
       "version_major": 2,
       "version_minor": 0
      },
      "text/plain": [
       "Canvas(toolbar=Toolbar(toolitems=[('Home', 'Reset original view', 'home', 'home'), ('Back', 'Back to previous …"
      ]
     },
     "metadata": {},
     "output_type": "display_data"
    },
    {
     "data": {
      "application/vnd.jupyter.widget-view+json": {
       "model_id": "599a34462fca4cb2b056ec88089371dd",
       "version_major": 2,
       "version_minor": 0
      },
      "text/plain": [
       "Canvas(toolbar=Toolbar(toolitems=[('Home', 'Reset original view', 'home', 'home'), ('Back', 'Back to previous …"
      ]
     },
     "metadata": {},
     "output_type": "display_data"
    },
    {
     "data": {
      "application/vnd.jupyter.widget-view+json": {
       "model_id": "5a27d0507d5e4664a524c70c63fae3d5",
       "version_major": 2,
       "version_minor": 0
      },
      "text/plain": [
       "Canvas(toolbar=Toolbar(toolitems=[('Home', 'Reset original view', 'home', 'home'), ('Back', 'Back to previous …"
      ]
     },
     "metadata": {},
     "output_type": "display_data"
    }
   ],
   "source": [
    "from leap_ec.probe import FitnessPlotProbe\n",
    "\n",
    "# The probe needs access to a context object so that it can read the global generation counter\n",
    "prop_probe = FitnessPlotProbe(ylim=(0, 70))\n",
    "sus_probe = FitnessPlotProbe(ylim=(0,70))\n",
    "tournament_probe = FitnessPlotProbe(ylim=(0,70))\n"
   ]
  },
  {
   "cell_type": "code",
   "execution_count": 3,
   "id": "8f4c09fe-7a0c-4cf1-ac82-f2002a37ec9d",
   "metadata": {},
   "outputs": [],
   "source": [
    "MAX_GEN = 1000\n",
    "POP_SIZE = 10"
   ]
  },
  {
   "cell_type": "code",
   "execution_count": 4,
   "id": "061946f8-7734-4086-bfe5-124a30ff103d",
   "metadata": {},
   "outputs": [],
   "source": [
    "ea = generational_ea(max_generations=MAX_GEN, pop_size=POP_SIZE,\n",
    "                     problem=StepProblem(maximize=True),\n",
    "                     representation=Representation(\n",
    "                         individual_cls=Individual,\n",
    "                         initialize=create_real_vector(bounds=[[-5.12, 5.12]]*2)\n",
    "                     ),\n",
    "                     pipeline=[\n",
    "                         ops.proportional_selection(offset=10),\n",
    "                         ops.clone,\n",
    "                         ops.uniform_crossover,\n",
    "                         mutate_gaussian(std=0.5, expected_num_mutations='isotropic'),\n",
    "                         ops.evaluate,\n",
    "                         ops.pool(size=POP_SIZE),\n",
    "                         prop_probe\n",
    "                     ])\n",
    "list(ea);"
   ]
  },
  {
   "cell_type": "code",
   "execution_count": 5,
   "id": "6cac3f1f-2a55-4865-8afd-a65db7e5c1b2",
   "metadata": {},
   "outputs": [],
   "source": [
    "ea = generational_ea(max_generations=MAX_GEN, pop_size=POP_SIZE,\n",
    "                     problem=StepProblem(maximize=True),\n",
    "                     representation=Representation(\n",
    "                         individual_cls=Individual,\n",
    "                         initialize=create_real_vector(bounds=[[-5.12, 5.12]]*2)\n",
    "                     ),\n",
    "                     pipeline=[\n",
    "                         ops.sus_selection(n=4, offset=10),\n",
    "                         ops.clone,\n",
    "                         ops.uniform_crossover,\n",
    "                         mutate_gaussian(std=0.5, expected_num_mutations='isotropic'),\n",
    "                         ops.evaluate,\n",
    "                         ops.pool(size=POP_SIZE),\n",
    "                         sus_probe\n",
    "                     ])\n",
    "list(ea);"
   ]
  },
  {
   "cell_type": "code",
   "execution_count": 6,
   "id": "a708cb2d-5f0d-4b11-b71b-8fd68a8c6c7e",
   "metadata": {},
   "outputs": [],
   "source": [
    "ea = generational_ea(max_generations=MAX_GEN, pop_size=POP_SIZE,\n",
    "                     problem=StepProblem(maximize=True),\n",
    "                     representation=Representation(\n",
    "                         individual_cls=Individual,\n",
    "                         initialize=create_real_vector(bounds=[[-5.12, 5.12]]*2)\n",
    "                     ),\n",
    "                     pipeline=[\n",
    "                         ops.tournament_selection(k=2),\n",
    "                         ops.clone,\n",
    "                         ops.uniform_crossover,\n",
    "                         mutate_gaussian(std=0.5, expected_num_mutations='isotropic'),\n",
    "                         ops.evaluate,\n",
    "                         ops.pool(size=POP_SIZE),\n",
    "                         tournament_probe\n",
    "                     ])\n",
    "list(ea);"
   ]
  },
  {
   "cell_type": "code",
   "execution_count": null,
   "id": "f72c0489-7427-448d-95d5-7458e59df2db",
   "metadata": {},
   "outputs": [],
   "source": []
  }
 ],
 "metadata": {
  "kernelspec": {
   "display_name": "Python 3",
   "language": "python",
   "name": "python3"
  },
  "language_info": {
   "codemirror_mode": {
    "name": "ipython",
    "version": 3
   },
   "file_extension": ".py",
   "mimetype": "text/x-python",
   "name": "python",
   "nbconvert_exporter": "python",
   "pygments_lexer": "ipython3",
   "version": "3.9.4"
  }
 },
 "nbformat": 4,
 "nbformat_minor": 5
}
