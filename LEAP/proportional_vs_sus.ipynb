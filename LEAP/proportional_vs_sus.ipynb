{
 "cells": [
  {
   "cell_type": "markdown",
   "id": "ae9dbbc4-ebe8-4f52-831d-bfed769ebd74",
   "metadata": {},
   "source": [
    "# Comparing Proportional Selection and SUS Selection\n",
    "In this notebook, I will compare the results of using proportional selection and SUS selection. "
   ]
  },
  {
   "cell_type": "code",
   "execution_count": 1,
   "id": "67391eaa-e9c3-41ab-847b-649d0d4ab18f",
   "metadata": {},
   "outputs": [],
   "source": [
    "import matplotlib.pyplot as plt\n",
    "from tqdm import tqdm\n",
    "\n",
    "from leap_ec.algorithm import generational_ea\n",
    "from leap_ec.individual import Individual\n",
    "from leap_ec.representation import Representation\n",
    "import leap_ec.ops as ops\n",
    "from leap_ec import probe\n",
    "from leap_ec.global_vars import context\n",
    "\n",
    "from leap_ec.real_rep.problems import LangermannProblem\n",
    "from leap_ec.real_rep.ops import mutate_gaussian\n",
    "from leap_ec.real_rep.initializers import create_real_vector"
   ]
  },
  {
   "cell_type": "markdown",
   "id": "103415b7-cefb-4240-babb-3aebb19038ac",
   "metadata": {},
   "source": [
    "## Define Parameters"
   ]
  },
  {
   "cell_type": "code",
   "execution_count": 2,
   "id": "8f4c09fe-7a0c-4cf1-ac82-f2002a37ec9d",
   "metadata": {},
   "outputs": [],
   "source": [
    "MAX_GEN = 1000    # number of generations per iteration\n",
    "POP_SIZE = 10     # population size\n",
    "NUM_ITER = 100    # total number of iterations per selection operator\n",
    "BOUNDS = [[0, 10]]*2  # bounds for LangermannProblem\n",
    "CONFIDENCE = 0.99 # confidence interval for plot"
   ]
  },
  {
   "cell_type": "markdown",
   "id": "e180f4d4-2ae9-4772-aad3-c022095ba5e4",
   "metadata": {},
   "source": [
    "## Run Proportional and Track Stats"
   ]
  },
  {
   "cell_type": "code",
   "execution_count": 3,
   "id": "061946f8-7734-4086-bfe5-124a30ff103d",
   "metadata": {},
   "outputs": [
    {
     "name": "stderr",
     "output_type": "stream",
     "text": [
      "100%|██████████| 100/100 [02:07<00:00,  1.28s/it]\n"
     ]
    }
   ],
   "source": [
    "prop_file = open('./proportional_stats.csv', 'w')\n",
    "prop_stats_probe = probe.FitnessStatsCSVProbe(stream=prop_file, context=context)\n",
    "for i in tqdm(range(NUM_ITER)):\n",
    "    prop_stats_probe.bsf_ind = None\n",
    "    ea = generational_ea(max_generations=MAX_GEN, pop_size=POP_SIZE,\n",
    "                         problem=LangermannProblem(maximize=True),\n",
    "                         representation=Representation(\n",
    "                             initialize=create_real_vector(bounds=BOUNDS)\n",
    "                         ),\n",
    "                         pipeline=[\n",
    "                             ops.proportional_selection(offset='pop-min'),\n",
    "                             ops.clone,\n",
    "                             ops.uniform_crossover,\n",
    "                             mutate_gaussian(std=0.5, expected_num_mutations='isotropic'),\n",
    "                             ops.evaluate,\n",
    "                             ops.pool(size=POP_SIZE),\n",
    "                             prop_stats_probe\n",
    "                         ])\n",
    "    list(ea);\n",
    "prop_file.close()"
   ]
  },
  {
   "cell_type": "markdown",
   "id": "c7c1485d-2587-4d13-9426-18689fc218ff",
   "metadata": {},
   "source": [
    "## Run SUS and Track Stats"
   ]
  },
  {
   "cell_type": "code",
   "execution_count": 4,
   "id": "6cac3f1f-2a55-4865-8afd-a65db7e5c1b2",
   "metadata": {},
   "outputs": [
    {
     "name": "stderr",
     "output_type": "stream",
     "text": [
      "100%|██████████| 100/100 [02:02<00:00,  1.22s/it]\n"
     ]
    }
   ],
   "source": [
    "sus_file = open('./SUS_stats.csv', 'w')\n",
    "sus_stats_probe = probe.FitnessStatsCSVProbe(stream=sus_file, context=context)\n",
    "for i in tqdm(range(NUM_ITER)):\n",
    "    sus_stats_probe.bsf_ind = None\n",
    "    ea = generational_ea(max_generations=MAX_GEN, pop_size=POP_SIZE,\n",
    "                         problem=LangermannProblem(maximize=True),\n",
    "                         representation=Representation(\n",
    "                             initialize=create_real_vector(bounds=BOUNDS)\n",
    "                         ),\n",
    "                         pipeline=[\n",
    "                             ops.sus_selection(n=4, offset='pop-min'),\n",
    "                             ops.clone,\n",
    "                             ops.uniform_crossover,\n",
    "                             mutate_gaussian(std=0.5, expected_num_mutations='isotropic'),\n",
    "                             ops.evaluate,\n",
    "                             ops.pool(size=POP_SIZE),\n",
    "                             sus_stats_probe\n",
    "                         ])\n",
    "    list(ea);\n",
    "sus_file.close()"
   ]
  },
  {
   "cell_type": "markdown",
   "id": "447c0317-fc96-4c5d-8e22-0fc62a05c3d4",
   "metadata": {},
   "source": [
    "## Data Manipulation"
   ]
  },
  {
   "cell_type": "code",
   "execution_count": 5,
   "id": "a708cb2d-5f0d-4b11-b71b-8fd68a8c6c7e",
   "metadata": {},
   "outputs": [],
   "source": [
    "import pandas as pd\n",
    "from scipy import stats\n",
    "import numpy as np\n",
    "\n",
    "# read in data and calculate averages\n",
    "prop_df = pd.read_csv('proportional_stats.csv')\n",
    "sus_df = pd.read_csv('SUS_stats.csv')\n",
    "\n",
    "prop_df_step = prop_df.groupby('step').mean()\n",
    "sus_df_step = sus_df.groupby('step').mean()\n",
    "\n",
    "sus_df_step.to_csv('SUS_avg_stats.csv')\n",
    "prop_df_step.to_csv('prop_avg_stats.csv')\n",
    "\n",
    "prop_bsf = prop_df_step[' bsf'].values\n",
    "sus_bsf = sus_df_step[' bsf'].values"
   ]
  },
  {
   "cell_type": "markdown",
   "id": "90b26ba2-3532-4ee3-ba05-411697c73fb2",
   "metadata": {},
   "source": [
    "## Compute Confidence Intervals"
   ]
  },
  {
   "cell_type": "code",
   "execution_count": 6,
   "id": "6efda28b-3049-4de8-9cec-8a544b99c409",
   "metadata": {},
   "outputs": [
    {
     "name": "stdout",
     "output_type": "stream",
     "text": [
      "[1.0891042443895338, 1.396948906707644, 1.6564447895478973, 1.7768397425450693, 1.9472799775371366, 1.9870764805865346, 2.0997995692098494, 2.164089274890242, 2.224185059502523, 2.236928885467731]\n",
      "[1.6169937781526853, 1.9198493618905152, 2.1818052111506847, 2.322094604436615, 2.4713493798088733, 2.5116464582011786, 2.6253639999604395, 2.6997517376450872, 2.754381594931125, 2.7738371736329563]\n",
      "[1.380197934047494, 1.828628036400697, 1.9418529049063762, 2.0681035585024743, 2.1802538344892626, 2.3063316901448587, 2.3968923168167025, 2.4424399731880193, 2.5077817700486578, 2.5311401307668753]\n",
      "[1.9612168067095799, 2.3552383617097568, 2.481137910504679, 2.6098854787858743, 2.7095483620407435, 2.821175128381115, 2.9020316585472776, 2.9589044437929326, 3.0270587086017273, 3.0448285692055315]\n"
     ]
    }
   ],
   "source": [
    "# create lists to store +/- (up/down) confidence intervals for each generation\n",
    "prop_conf_up = []\n",
    "prop_conf_down = []\n",
    "sus_conf_up = []\n",
    "sus_conf_down = []\n",
    "for i in range(MAX_GEN):\n",
    "    prop_step_data = prop_df[prop_df['step'] == i][' bsf'].values\n",
    "    sus_step_data = sus_df[sus_df['step'] == i][' bsf'].values\n",
    "    prop_int_up, prop_int_down = stats.t.interval(CONFIDENCE, len(prop_step_data)-1, loc=prop_bsf[i], scale=stats.sem(prop_step_data)) \n",
    "    sus_int_up, sus_int_down = stats.t.interval(CONFIDENCE, len(sus_step_data)-1, loc=sus_bsf[i], scale=stats.sem(sus_step_data))\n",
    "    prop_conf_up.append(prop_int_up)\n",
    "    prop_conf_down.append(prop_int_down)\n",
    "    sus_conf_up.append(sus_int_up)\n",
    "    sus_conf_down.append(sus_int_down)\n",
    "    \n",
    "print(prop_conf_up[0:10])\n",
    "print(prop_conf_down[0:10])\n",
    "print(sus_conf_up[0:10])\n",
    "print(sus_conf_down[0:10])"
   ]
  },
  {
   "cell_type": "markdown",
   "id": "9c1b8c26-3608-459f-86d1-df15aa3615ef",
   "metadata": {},
   "source": [
    "## Plot Result"
   ]
  },
  {
   "cell_type": "code",
   "execution_count": 7,
   "id": "f72c0489-7427-448d-95d5-7458e59df2db",
   "metadata": {},
   "outputs": [
    {
     "data": {
      "image/png": "[encoded data removed]",
      "text/plain": [
       "<Figure size 432x288 with 1 Axes>"
      ]
     },
     "metadata": {
      "needs_background": "light"
     },
     "output_type": "display_data"
    }
   ],
   "source": [
    "steps = list(range(MAX_GEN))\n",
    "plt.plot(steps, prop_bsf, color='blue', label='Proportional')\n",
    "plt.fill_between(steps, prop_conf_up, prop_conf_down, alpha=0.25)\n",
    "plt.plot(steps, sus_bsf, color='red', label='SUS')\n",
    "plt.fill_between(steps, sus_conf_up, sus_conf_down, alpha=0.25)\n",
    "plt.legend()\n",
    "plt.ylabel('Best-so-far fitness')\n",
    "plt.xlabel('Generation')\n",
    "plt.title('Average Best-so-far Fitness vs Generations')\n",
    "plt.savefig(f'prop_vs_sus_bsf_conf{CONFIDENCE}_langermann.png')\n",
    "\n",
    "plt.show()\n"
   ]
  },
  {
   "cell_type": "code",
   "execution_count": null,
   "id": "bf518f5c-ee97-458e-8d93-ff83b5548a00",
   "metadata": {},
   "outputs": [],
   "source": []
  }
 ],
 "metadata": {
  "kernelspec": {
   "display_name": "Python 3",
   "language": "python",
   "name": "python3"
  },
  "language_info": {
   "codemirror_mode": {
    "name": "ipython",
    "version": 3
   },
   "file_extension": ".py",
   "mimetype": "text/x-python",
   "name": "python",
   "nbconvert_exporter": "python",
   "pygments_lexer": "ipython3",
   "version": "3.9.4"
  }
 },
 "nbformat": 4,
 "nbformat_minor": 5
}
