{
 "cells": [
  {
   "cell_type": "markdown",
   "id": "ae9dbbc4-ebe8-4f52-831d-bfed769ebd74",
   "metadata": {},
   "source": [
    "# Comparing Proportional Selection and SUS Selection\n",
    "In this notebook, I will compare the results of using proportional selection on simple and more complex 2D problems."
   ]
  },
  {
   "cell_type": "code",
   "execution_count": 1,
   "id": "67391eaa-e9c3-41ab-847b-649d0d4ab18f",
   "metadata": {},
   "outputs": [],
   "source": [
    "%matplotlib widget\n",
    "from leap_ec.algorithm import generational_ea\n",
    "from leap_ec.individual import Individual\n",
    "from leap_ec.decoder import IdentityDecoder\n",
    "from leap_ec.representation import Representation\n",
    "import leap_ec.ops as ops\n",
    "\n",
    "\n",
    "from leap_ec.real_rep.problems import SpheroidProblem, SchwefelProblem\n",
    "from leap_ec.real_rep.ops import mutate_gaussian\n",
    "from leap_ec.real_rep.initializers import create_real_vector"
   ]
  },
  {
   "cell_type": "code",
   "execution_count": 6,
   "id": "a65fd3a3-bb26-4c44-b839-715c4daedb7c",
   "metadata": {},
   "outputs": [
    {
     "data": {
      "application/vnd.jupyter.widget-view+json": {
       "model_id": "85f7760d02c34734850787bb49825a3a",
       "version_major": 2,
       "version_minor": 0
      },
      "text/plain": [
       "Canvas(toolbar=Toolbar(toolitems=[('Home', 'Reset original view', 'home', 'home'), ('Back', 'Back to previous …"
      ]
     },
     "metadata": {},
     "output_type": "display_data"
    }
   ],
   "source": [
    "from leap_ec.probe import FitnessPlotProbe\n",
    "\n",
    "# The probe needs access to a context object so that it can read the global generation counter\n",
    "plot_probe = FitnessPlotProbe(ylim=(0, 70))"
   ]
  },
  {
   "cell_type": "code",
   "execution_count": null,
   "id": "061946f8-7734-4086-bfe5-124a30ff103d",
   "metadata": {},
   "outputs": [],
   "source": []
  }
 ],
 "metadata": {
  "kernelspec": {
   "display_name": "Python 3",
   "language": "python",
   "name": "python3"
  },
  "language_info": {
   "codemirror_mode": {
    "name": "ipython",
    "version": 3
   },
   "file_extension": ".py",
   "mimetype": "text/x-python",
   "name": "python",
   "nbconvert_exporter": "python",
   "pygments_lexer": "ipython3",
   "version": "3.9.4"
  }
 },
 "nbformat": 4,
 "nbformat_minor": 5
}
