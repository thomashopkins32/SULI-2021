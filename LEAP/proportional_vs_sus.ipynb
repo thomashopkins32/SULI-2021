{
 "cells": [
  {
   "cell_type": "markdown",
   "id": "ae9dbbc4-ebe8-4f52-831d-bfed769ebd74",
   "metadata": {},
   "source": [
    "# Comparing Proportional Selection and SUS Selection\n",
    "In this notebook, I will compare the results of using proportional selection, SUS selection, and tournament selection on the 2D step problem."
   ]
  },
  {
   "cell_type": "code",
   "execution_count": 1,
   "id": "67391eaa-e9c3-41ab-847b-649d0d4ab18f",
   "metadata": {},
   "outputs": [],
   "source": [
    "import matplotlib.pyplot as plt\n",
    "from tqdm import tqdm\n",
    "\n",
    "from leap_ec.algorithm import generational_ea\n",
    "from leap_ec.individual import Individual\n",
    "from leap_ec.representation import Representation\n",
    "import leap_ec.ops as ops\n",
    "from leap_ec import probe\n",
    "from leap_ec.global_vars import context\n",
    "\n",
    "from leap_ec.real_rep.problems import StepProblem\n",
    "from leap_ec.real_rep.ops import mutate_gaussian\n",
    "from leap_ec.real_rep.initializers import create_real_vector"
   ]
  },
  {
   "cell_type": "code",
   "execution_count": 8,
   "id": "8f4c09fe-7a0c-4cf1-ac82-f2002a37ec9d",
   "metadata": {},
   "outputs": [],
   "source": [
    "MAX_GEN = 10\n",
    "POP_SIZE = 10\n",
    "NUM_ITER = 50\n",
    "BOUNDS = [[-5.12, 5.12]]*30"
   ]
  },
  {
   "cell_type": "code",
   "execution_count": 9,
   "id": "061946f8-7734-4086-bfe5-124a30ff103d",
   "metadata": {},
   "outputs": [
    {
     "name": "stderr",
     "output_type": "stream",
     "text": [
      "100%|██████████| 50/50 [00:00<00:00, 66.59it/s]\n"
     ]
    }
   ],
   "source": [
    "prop_file = open('./proportional_stats.csv', 'w')\n",
    "prop_stats_probe = probe.FitnessStatsCSVProbe(stream=prop_file, context=context)\n",
    "for i in tqdm(range(NUM_ITER)):\n",
    "    prop_stats_probe.bsf_ind = None\n",
    "    ea = generational_ea(max_generations=MAX_GEN, pop_size=POP_SIZE,\n",
    "                         problem=StepProblem(maximize=True),\n",
    "                         representation=Representation(\n",
    "                             initialize=create_real_vector(bounds=BOUNDS)\n",
    "                         ),\n",
    "                         pipeline=[\n",
    "                             ops.proportional_selection(offset='pop-min'),\n",
    "                             ops.clone,\n",
    "                             ops.uniform_crossover,\n",
    "                             mutate_gaussian(std=0.5, expected_num_mutations='isotropic'),\n",
    "                             ops.evaluate,\n",
    "                             ops.pool(size=POP_SIZE),\n",
    "                             prop_stats_probe\n",
    "                         ])\n",
    "    list(ea);\n",
    "prop_file.close()"
   ]
  },
  {
   "cell_type": "code",
   "execution_count": 10,
   "id": "6cac3f1f-2a55-4865-8afd-a65db7e5c1b2",
   "metadata": {},
   "outputs": [
    {
     "name": "stderr",
     "output_type": "stream",
     "text": [
      "100%|██████████| 50/50 [00:00<00:00, 69.21it/s]\n"
     ]
    }
   ],
   "source": [
    "sus_file = open('./SUS_stats.csv', 'w')\n",
    "sus_stats_probe = probe.FitnessStatsCSVProbe(stream=sus_file, context=context)\n",
    "for i in tqdm(range(NUM_ITER)):\n",
    "    sus_stats_probe.bsf_ind = None\n",
    "    ea = generational_ea(max_generations=MAX_GEN, pop_size=POP_SIZE,\n",
    "                         problem=StepProblem(maximize=True),\n",
    "                         representation=Representation(\n",
    "                             initialize=create_real_vector(bounds=BOUNDS)\n",
    "                         ),\n",
    "                         pipeline=[\n",
    "                             ops.sus_selection(n=4, offset='pop-min'),\n",
    "                             ops.clone,\n",
    "                             ops.uniform_crossover,\n",
    "                             mutate_gaussian(std=0.5, expected_num_mutations='isotropic'),\n",
    "                             ops.evaluate,\n",
    "                             ops.pool(size=POP_SIZE),\n",
    "                             sus_stats_probe\n",
    "                         ])\n",
    "    list(ea);\n",
    "sus_file.close()"
   ]
  },
  {
   "cell_type": "code",
   "execution_count": 11,
   "id": "a708cb2d-5f0d-4b11-b71b-8fd68a8c6c7e",
   "metadata": {},
   "outputs": [],
   "source": [
    "import pandas as pd\n",
    "from scipy import stats\n",
    "import numpy as np\n",
    "\n",
    "prop_df = pd.read_csv('proportional_stats.csv')\n",
    "sus_df = pd.read_csv('SUS_stats.csv')\n",
    "\n",
    "prop_df_step = prop_df.groupby('step').mean()\n",
    "sus_df_step = sus_df.groupby('step').mean()\n",
    "\n",
    "sus_df_step.to_csv('SUS_avg_stats.csv')\n",
    "prop_df_step.to_csv('prop_avg_stats.csv')\n",
    "\n",
    "prop_bsf = prop_df_step[' bsf'].values\n",
    "sus_bsf = sus_df_step[' bsf'].values"
   ]
  },
  {
   "cell_type": "code",
   "execution_count": 12,
   "id": "6efda28b-3049-4de8-9cec-8a544b99c409",
   "metadata": {},
   "outputs": [
    {
     "name": "stdout",
     "output_type": "stream",
     "text": [
      "[12.438588297168632, 18.51505102089606, 23.4284255377639, 27.37331020268419, 31.12141697053447, 35.27522549928373, 38.14948870880471, 41.534229098762715, 44.3711540417283, 48.99128563842674]\n",
      "[18.121411702831367, 24.364948979103943, 28.8915744622361, 33.22668979731581, 36.998583029465536, 41.044774500716265, 44.090511291195284, 47.42577090123728, 50.1088459582717, 54.608714361573256]\n",
      "[13.37256846764353, 20.371320843635175, 24.99467592582371, 31.576446887419607, 36.888736405700406, 40.4784270447266, 44.123602164762886, 47.7476341161627, 51.53656318104049, 55.940187121954835]\n",
      "[19.027431532356466, 26.268679156364826, 31.565324074176292, 37.66355311258039, 42.43126359429959, 46.2415729552734, 49.67639783523711, 53.0523658838373, 56.903436818959506, 61.25981287804517]\n"
     ]
    }
   ],
   "source": [
    "prop_conf_up = []\n",
    "prop_conf_down = []\n",
    "sus_conf_up = []\n",
    "sus_conf_down = []\n",
    "for i in range(MAX_GEN):\n",
    "    prop_step_data = prop_df[prop_df['step'] == i][' bsf'].values\n",
    "    sus_step_data = sus_df[sus_df['step'] == i][' bsf'].values\n",
    "    prop_int_up, prop_int_down = stats.t.interval(0.95, len(prop_step_data)-1, loc=prop_bsf[i], scale=stats.sem(prop_step_data)) \n",
    "    sus_int_up, sus_int_down = stats.t.interval(0.95, len(sus_step_data)-1, loc=sus_bsf[i], scale=stats.sem(sus_step_data))\n",
    "    prop_conf_up.append(prop_int_up)\n",
    "    prop_conf_down.append(prop_int_down)\n",
    "    sus_conf_up.append(sus_int_up)\n",
    "    sus_conf_down.append(sus_int_down)\n",
    "    \n",
    "print(prop_conf_up[0:10])\n",
    "print(prop_conf_down[0:10])\n",
    "print(sus_conf_up[0:10])\n",
    "print(sus_conf_down[0:10])"
   ]
  },
  {
   "cell_type": "code",
   "execution_count": 14,
   "id": "f72c0489-7427-448d-95d5-7458e59df2db",
   "metadata": {},
   "outputs": [
    {
     "data": {
      "image/png": "[encoded data removed]",
      "text/plain": [
       "<Figure size 432x288 with 1 Axes>"
      ]
     },
     "metadata": {
      "needs_background": "light"
     },
     "output_type": "display_data"
    }
   ],
   "source": [
    "steps = list(range(MAX_GEN))\n",
    "plt.plot(steps, prop_bsf, color='blue', label='Proportional')\n",
    "plt.fill_between(steps, prop_conf_up, prop_conf_down, alpha=0.25)\n",
    "plt.plot(steps, sus_bsf, color='red', label='SUS')\n",
    "plt.fill_between(steps, sus_conf_up, sus_conf_down, alpha=0.25)\n",
    "plt.legend()\n",
    "plt.ylabel('Best-so-far fitness')\n",
    "plt.xlabel('Generation')\n",
    "plt.title('Average Best-so-far Fitness vs Generations')\n",
    "plt.savefig('prop_vs_sus_bsf_conf95.png')\n",
    "\n",
    "plt.show()\n"
   ]
  },
  {
   "cell_type": "code",
   "execution_count": null,
   "id": "bf518f5c-ee97-458e-8d93-ff83b5548a00",
   "metadata": {},
   "outputs": [],
   "source": []
  }
 ],
 "metadata": {
  "kernelspec": {
   "display_name": "Python 3",
   "language": "python",
   "name": "python3"
  },
  "language_info": {
   "codemirror_mode": {
    "name": "ipython",
    "version": 3
   },
   "file_extension": ".py",
   "mimetype": "text/x-python",
   "name": "python",
   "nbconvert_exporter": "python",
   "pygments_lexer": "ipython3",
   "version": "3.9.4"
  }
 },
 "nbformat": 4,
 "nbformat_minor": 5
}
