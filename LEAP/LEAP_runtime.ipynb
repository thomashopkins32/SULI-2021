{
 "cells": [
  {
   "cell_type": "markdown",
   "id": "acbec468-126a-497b-a7db-e3fdef817318",
   "metadata": {},
   "source": [
    "# **LEAP Runtime Test**\n",
    "In this notebook, we will look at how fast LEAP is at executing some simple evolutionary algorithms.\n",
    "\n",
    "This analysis will use a `ConstantProblem` where the fitness is always 1 no matter what the individual's genome is.\n",
    "\n",
    "The bulk of the runtime in typical evolutionary algorithms (EAs) lie in fitness evaluation. Using a `ConstantProblem` avoids this computation altogether."
   ]
  },
  {
   "cell_type": "code",
   "execution_count": 1,
   "id": "855d4471-6a10-46c9-bff0-c44bdadfba6e",
   "metadata": {},
   "outputs": [],
   "source": [
    "from leap_ec.algorithm import generational_ea\n",
    "from leap_ec.problem import ConstantProblem\n",
    "from leap_ec.representation import Representation\n",
    "from leap_ec.real_rep.initializers import create_real_vector\n",
    "from leap_ec.real_rep.ops import mutate_gaussian\n",
    "from leap_ec.binary_rep.ops import mutate_bitflip\n",
    "from leap_ec.binary_rep.initializers import create_binary_sequence\n",
    "from leap_ec.binary_rep.problems import MaxOnes\n",
    "from leap_ec.binary_rep.decoders import BinaryToIntDecoder\n",
    "import leap_ec.ops as ops\n"
   ]
  },
  {
   "cell_type": "markdown",
   "id": "e3a0d08e-31fc-4c91-a32c-1477a576d30e",
   "metadata": {},
   "source": [
    "## Define Hyperparameters\n",
    "These parameters will be used to test various aspects of LEAP."
   ]
  },
  {
   "cell_type": "code",
   "execution_count": 2,
   "id": "2dc59ed3-89f8-4abb-9404-db53b405b271",
   "metadata": {},
   "outputs": [],
   "source": [
    "MAX_GENERATIONS = 100\n",
    "POPULATION_SIZE = 10\n",
    "GENOME_LENGTH = 10000\n",
    "BOUNDS = [[-100, 100]]*GENOME_LENGTH"
   ]
  },
  {
   "cell_type": "markdown",
   "id": "37a2b3d9-e129-4b7f-b2b8-914a435c95ea",
   "metadata": {},
   "source": [
    "## Run Simple Real-valued EA\n",
    "LEAP v0.6.0 Runtime: 30.955s\n",
    "\n",
    "LEAP numpy Runtime: 0.877s"
   ]
  },
  {
   "cell_type": "code",
   "execution_count": 3,
   "id": "0d547f59-063e-48de-9133-fc7caa88d285",
   "metadata": {},
   "outputs": [
    {
     "name": "stdout",
     "output_type": "stream",
     "text": [
      "Runtime: 30.95457911491394\n"
     ]
    }
   ],
   "source": [
    "import time\n",
    "\n",
    "start = time.time()\n",
    "ea = generational_ea(max_generations=MAX_GENERATIONS, pop_size=POPULATION_SIZE,\n",
    "                     problem=ConstantProblem(),\n",
    "                     representation=Representation(\n",
    "                         initialize=create_real_vector(bounds=BOUNDS)),\n",
    "                     pipeline=[\n",
    "                         ops.tournament_selection(k=2),\n",
    "                         ops.clone,\n",
    "                         ops.uniform_crossover,\n",
    "                         mutate_gaussian(std=0.5, expected_num_mutations='isotropic'),\n",
    "                         ops.evaluate,\n",
    "                         ops.pool(size=POPULATION_SIZE)\n",
    "                     ])\n",
    "list(ea);\n",
    "end = time.time()\n",
    "print(f'Runtime: {end - start}')"
   ]
  },
  {
   "cell_type": "markdown",
   "id": "355df281-043c-4aea-a7be-0969dbec97ed",
   "metadata": {},
   "source": [
    "## Run Simple Binary EA\n",
    "LEAP v0.6.0 Runtime: 4.850s\n",
    "\n",
    "LEAP numpy Runtime: 0.511s\n",
    "\n",
    "Biggest difference in speedup is found in crossover and mutate bitflip since the genome is large"
   ]
  },
  {
   "cell_type": "code",
   "execution_count": 4,
   "id": "079c05ef-fea5-4046-8e8b-c8bd3cd2b380",
   "metadata": {},
   "outputs": [
    {
     "name": "stdout",
     "output_type": "stream",
     "text": [
      "Runtime: 4.695421934127808\n"
     ]
    }
   ],
   "source": [
    "import time\n",
    "\n",
    "start = time.time()\n",
    "ea = generational_ea(max_generations=MAX_GENERATIONS, pop_size=POPULATION_SIZE,\n",
    "                     problem=MaxOnes(),\n",
    "                     representation=Representation(\n",
    "                         initialize=create_binary_sequence(length=GENOME_LENGTH)),\n",
    "                     pipeline=[\n",
    "                         ops.tournament_selection(k=2),\n",
    "                         ops.clone,\n",
    "                         ops.uniform_crossover,\n",
    "                         mutate_bitflip(probability=0.5),\n",
    "                         ops.evaluate,\n",
    "                         ops.pool(size=POPULATION_SIZE)\n",
    "                     ])\n",
    "list(ea);\n",
    "end = time.time()\n",
    "print(f'Runtime: {end - start}')"
   ]
  },
  {
   "cell_type": "markdown",
   "id": "76d8e628-062b-4e1d-8c6c-eedbeeae9545",
   "metadata": {},
   "source": [
    "## Run Simple Integer-valued EA\n",
    "LEAP v0.6.0 Runtime: s\n",
    "\n",
    "LEAP numpy Runtime: s"
   ]
  },
  {
   "cell_type": "code",
   "execution_count": null,
   "id": "3f0f0fe0-d0a6-4672-96e7-decfc14f026d",
   "metadata": {},
   "outputs": [],
   "source": []
  },
  {
   "cell_type": "code",
   "execution_count": null,
   "id": "47a2d3f6-6369-4589-9c2f-55508113ebe3",
   "metadata": {},
   "outputs": [],
   "source": []
  }
 ],
 "metadata": {
  "kernelspec": {
   "display_name": "Python 3",
   "language": "python",
   "name": "python3"
  },
  "language_info": {
   "codemirror_mode": {
    "name": "ipython",
    "version": 3
   },
   "file_extension": ".py",
   "mimetype": "text/x-python",
   "name": "python",
   "nbconvert_exporter": "python",
   "pygments_lexer": "ipython3",
   "version": "3.9.5"
  }
 },
 "nbformat": 4,
 "nbformat_minor": 5
}
