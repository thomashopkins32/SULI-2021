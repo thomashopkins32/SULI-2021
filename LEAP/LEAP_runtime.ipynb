{
 "cells": [
  {
   "cell_type": "markdown",
   "id": "acbec468-126a-497b-a7db-e3fdef817318",
   "metadata": {},
   "source": [
    "# **LEAP Runtime Test**\n",
    "In this notebook, we will look at how fast LEAP is at executing some simple evolutionary algorithms.\n",
    "\n",
    "This analysis will use a `ConstantProblem` where the fitness is always 1 no matter what the individual's genome is.\n",
    "\n",
    "The bulk of the runtime in typical evolutionary algorithms (EAs) lie in fitness evaluation. Using a `ConstantProblem` avoids this computation altogether."
   ]
  },
  {
   "cell_type": "code",
   "execution_count": 1,
   "id": "855d4471-6a10-46c9-bff0-c44bdadfba6e",
   "metadata": {},
   "outputs": [],
   "source": [
    "import numpy as np\n",
    "from tqdm import tqdm\n",
    "import time\n",
    "import pandas as pd\n",
    "import leap_ec\n",
    "from leap_ec.algorithm import generational_ea\n",
    "from leap_ec.problem import ConstantProblem\n",
    "from leap_ec.representation import Representation\n",
    "from leap_ec.real_rep.initializers import create_real_vector\n",
    "from leap_ec.real_rep.ops import mutate_gaussian\n",
    "from leap_ec.binary_rep.ops import mutate_bitflip\n",
    "from leap_ec.binary_rep.initializers import create_binary_sequence\n",
    "from leap_ec.binary_rep.problems import MaxOnes\n",
    "from leap_ec.binary_rep.decoders import BinaryToIntDecoder\n",
    "import leap_ec.ops as ops\n"
   ]
  },
  {
   "cell_type": "markdown",
   "id": "e3a0d08e-31fc-4c91-a32c-1477a576d30e",
   "metadata": {},
   "source": [
    "## Define Hyperparameters\n",
    "These parameters will be used to test various aspects of LEAP."
   ]
  },
  {
   "cell_type": "code",
   "execution_count": 2,
   "id": "2dc59ed3-89f8-4abb-9404-db53b405b271",
   "metadata": {},
   "outputs": [],
   "source": [
    "MAX_GENERATIONS = 100\n",
    "POPULATION_SIZE = 10\n",
    "GENOME_LENGTHS = np.arange(1, 1000)\n",
    "BOUNDS = [[-100, 100]]"
   ]
  },
  {
   "cell_type": "markdown",
   "id": "37a2b3d9-e129-4b7f-b2b8-914a435c95ea",
   "metadata": {},
   "source": [
    "## Run Simple Real-valued EA\n",
    "Run a generational EA over many different lengths to see how much length has a factor in the speedup of using numpy over lists."
   ]
  },
  {
   "cell_type": "code",
   "execution_count": 3,
   "id": "0d547f59-063e-48de-9133-fc7caa88d285",
   "metadata": {},
   "outputs": [
    {
     "name": "stderr",
     "output_type": "stream",
     "text": [
      "100%|██████████| 999/999 [02:28<00:00,  6.74it/s]\n"
     ]
    }
   ],
   "source": [
    "runtimes = []\n",
    "for length in tqdm(GENOME_LENGTHS, total=len(GENOME_LENGTHS)):\n",
    "    start = time.time()\n",
    "    ea = generational_ea(max_generations=MAX_GENERATIONS, pop_size=POPULATION_SIZE,\n",
    "                         problem=ConstantProblem(),\n",
    "                         representation=Representation(\n",
    "                             initialize=create_real_vector(bounds=BOUNDS*length)),\n",
    "                         pipeline=[\n",
    "                             ops.tournament_selection(k=2),\n",
    "                             ops.clone,\n",
    "                             ops.uniform_crossover,\n",
    "                             mutate_gaussian(std=0.5, expected_num_mutations='isotropic'),\n",
    "                             ops.evaluate,\n",
    "                             ops.pool(size=POPULATION_SIZE)\n",
    "                         ])\n",
    "    list(ea);\n",
    "    elapsed = time.time() - start\n",
    "    runtimes.append(elapsed)\n",
    "data = {'length': GENOME_LENGTHS, 'runtime': runtimes}\n",
    "frame = pd.DataFrame(data)\n",
    "frame.to_csv(f'{leap_ec.__version__}_runtime.csv')\n"
   ]
  },
  {
   "cell_type": "code",
   "execution_count": 4,
   "id": "5ea8320b-ccf0-4bd1-a6ef-22b0b4b64b21",
   "metadata": {},
   "outputs": [
    {
     "data": {
      "image/png": "[encoded data removed]",
      "text/plain": [
       "<Figure size 432x288 with 1 Axes>"
      ]
     },
     "metadata": {
      "needs_background": "light"
     },
     "output_type": "display_data"
    }
   ],
   "source": [
    "# THIS CELL IS SEPARATE FROM THE REST OF THE NOTEBOOK\n",
    "import matplotlib.pyplot as plt\n",
    "import pandas as pd\n",
    "import numpy as np\n",
    "\n",
    "numpy_data = pd.read_csv('0.7.0.dev_runtime.csv').values\n",
    "list_data = pd.read_csv('0.6.0_runtime.csv').values\n",
    "difference = list_data[:, -1] - numpy_data[:, -1]\n",
    "\n",
    "plt.fill_between(np.arange(1, 1000), list_data[:, -1], numpy_data[:, -1], alpha=0.5)\n",
    "plt.plot(np.arange(1, 1000), list_data[:, -1], c='red', label='v0.6.0')\n",
    "plt.plot(np.arange(1, 1000), numpy_data[:, -1], c='green', label='numpy')\n",
    "plt.title('Runtime of LEAP v0.6.0 and LEAP w/ numpy over genome length')\n",
    "plt.xlabel('genome length')\n",
    "plt.ylabel('runtime (s)')\n",
    "plt.legend()\n",
    "plt.savefig('runtime_difference_1000.png')\n",
    "plt.show()"
   ]
  },
  {
   "cell_type": "code",
   "execution_count": null,
   "id": "def4a005-bf4c-45e8-84b9-fb0c0ea63c8d",
   "metadata": {},
   "outputs": [],
   "source": []
  }
 ],
 "metadata": {
  "kernelspec": {
   "display_name": "Python 3",
   "language": "python",
   "name": "python3"
  },
  "language_info": {
   "codemirror_mode": {
    "name": "ipython",
    "version": 3
   },
   "file_extension": ".py",
   "mimetype": "text/x-python",
   "name": "python",
   "nbconvert_exporter": "python",
   "pygments_lexer": "ipython3",
   "version": "3.9.4"
  }
 },
 "nbformat": 4,
 "nbformat_minor": 5
}
