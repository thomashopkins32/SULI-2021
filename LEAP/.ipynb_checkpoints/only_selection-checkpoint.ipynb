{
 "cells": [
  {
   "cell_type": "markdown",
   "id": "6780bf66-15ca-4949-b3dd-f1ea681379cf",
   "metadata": {},
   "source": [
    "# **Convergence of Selection to Uniform Populations**\n",
    "In this notebook I will explore simple evolutionary algorithms using only selection operators (no mutation/crossover). The expected result for each algorithm is to have a uniform population where all of the individuals are the same.\n",
    "\n",
    "TODO: Fix issue with plotting or switch to a more custom algorithm instead of using generational_ea."
   ]
  },
  {
   "cell_type": "code",
   "execution_count": 1,
   "id": "0b193bc7-08fe-41c8-b369-61c013da738f",
   "metadata": {},
   "outputs": [],
   "source": [
    "%matplotlib widget\n",
    "from leap_ec.algorithm import generational_ea\n",
    "from leap_ec.decoder import IdentityDecoder\n",
    "from leap_ec.representation import Representation\n",
    "from leap_ec.problem import ConstantProblem\n",
    "from leap_ec.real_rep.problems import plot_2d_problem\n",
    "from leap_ec.real_rep.initializers import create_real_vector\n",
    "from leap_ec.probe import PopulationPlotProbe \n",
    "from leap_ec.context import context\n",
    "import leap_ec.ops as ops\n",
    "\n",
    "import time"
   ]
  },
  {
   "cell_type": "markdown",
   "id": "7f895602-fb77-4cca-9692-fd121042ba82",
   "metadata": {},
   "source": [
    "# **Problem & Representation**\n",
    "The problem is very simple in that it returns the same fitness value for each individual in the population.\n",
    "\n",
    "The genome of each individual is a single real value on `[0,2]`.\n",
    "\n",
    "Each type of selection will involve running with the following parameters:\n",
    "- population_size: 10\n",
    "- generations: 100\n",
    "- initial random real vector of length 1\n",
    "- selection only (no mutation/crossover)\n",
    "\n",
    "The plot will be the difference in the genome of the max and min. This value is expected to converge to zero meaning that the population is uniform."
   ]
  },
  {
   "cell_type": "code",
   "execution_count": 2,
   "id": "2917789b-678b-46ab-bf11-ef7454a08de0",
   "metadata": {},
   "outputs": [],
   "source": [
    "def genome_diff(population):\n",
    "    ''' Computes | max(population) - min(population) | '''\n",
    "    genomes = [ind.genome[0] for ind in population]\n",
    "    return abs(max(genomes) - min(genomes))"
   ]
  },
  {
   "cell_type": "markdown",
   "id": "b9bdd7e7-acd0-4542-b8ef-aa2777472639",
   "metadata": {},
   "source": [
    "## **Random Selection**"
   ]
  },
  {
   "cell_type": "code",
   "execution_count": 3,
   "id": "fa08ead8-f0fd-473e-b4f2-920fb8b7072a",
   "metadata": {},
   "outputs": [
    {
     "data": {
      "application/vnd.jupyter.widget-view+json": {
       "model_id": "8ea55ea7d3ab4f48b87ad53030db0633",
       "version_major": 2,
       "version_minor": 0
      },
      "text/plain": [
       "Canvas(toolbar=Toolbar(toolitems=[('Home', 'Reset original view', 'home', 'home'), ('Back', 'Back to previous …"
      ]
     },
     "metadata": {},
     "output_type": "display_data"
    }
   ],
   "source": [
    "random_probe = PopulationPlotProbe(context, ylim=(-0.5,3), f=genome_diff)"
   ]
  },
  {
   "cell_type": "code",
   "execution_count": 10,
   "id": "ceea7a45-b521-43a6-b5a6-e2a65261a34e",
   "metadata": {},
   "outputs": [],
   "source": [
    "N = 10\n",
    "ea = generational_ea(generations=100, pop_size=N,\n",
    "                     problem=ConstantProblem(),\n",
    "                     representation=Representation(\n",
    "                          decoder=IdentityDecoder(),\n",
    "                          initialize=create_real_vector([(0,2)])\n",
    "                     ),\n",
    "                     pipeline=[ops.random_selection,\n",
    "                               ops.clone,\n",
    "                               ops.evaluate,\n",
    "                               ops.pool(size=N),\n",
    "                               random_probe\n",
    "                     ])\n",
    "list(ea);"
   ]
  },
  {
   "cell_type": "markdown",
   "id": "a252c955-6688-47d4-8584-43045b797cf1",
   "metadata": {},
   "source": [
    "## **Tournament Selection**"
   ]
  },
  {
   "cell_type": "code",
   "execution_count": 9,
   "id": "1f3f7957-f14b-4694-9702-07d1e2ab3d99",
   "metadata": {},
   "outputs": [],
   "source": [
    "tournament_probe = PopulationPlotProbe(context, ylim=(-0.5,3), f=genome_diff) "
   ]
  },
  {
   "cell_type": "code",
   "execution_count": 11,
   "id": "4b2da0f9-f974-4c22-8de4-9a417c7a2cab",
   "metadata": {},
   "outputs": [],
   "source": [
    "N = 10\n",
    "ea = generational_ea(generations=100, pop_size=N,\n",
    "                     problem=ConstantProblem(),\n",
    "                     representation=Representation(\n",
    "                          decoder=IdentityDecoder(),\n",
    "                          initialize=create_real_vector([(0,2)])\n",
    "                     ),\n",
    "                     pipeline=[ops.tournament_selection,\n",
    "                               ops.clone,\n",
    "                               ops.evaluate,\n",
    "                               ops.pool(size=N),\n",
    "                               tournament_probe\n",
    "                     ])\n",
    "list(ea);"
   ]
  },
  {
   "cell_type": "markdown",
   "id": "154c62be-7aeb-406e-98bf-d1bb7f0e6c2e",
   "metadata": {},
   "source": []
  },
  {
   "cell_type": "code",
   "execution_count": null,
   "id": "6238849d-48e5-48fb-9c78-a4a77934bde7",
   "metadata": {},
   "outputs": [],
   "source": []
  }
 ],
 "metadata": {
  "kernelspec": {
   "display_name": "Python 3",
   "language": "python",
   "name": "python3"
  },
  "language_info": {
   "codemirror_mode": {
    "name": "ipython",
    "version": 3
   },
   "file_extension": ".py",
   "mimetype": "text/x-python",
   "name": "python",
   "nbconvert_exporter": "python",
   "pygments_lexer": "ipython3",
   "version": "3.9.4"
  }
 },
 "nbformat": 4,
 "nbformat_minor": 5
}
