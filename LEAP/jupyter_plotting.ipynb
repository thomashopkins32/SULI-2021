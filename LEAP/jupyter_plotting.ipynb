{
 "cells": [
  {
   "cell_type": "markdown",
   "metadata": {},
   "source": [
    "# LEAP Plotting in Jupyter\n",
    "\n",
    "Easy access to visualization makes for a smooth algorithm development cycle. LEAP offers components to assist with plotting algorithms and problems with `matplotlib` and Jupyter."
   ]
  },
  {
   "cell_type": "markdown",
   "metadata": {},
   "source": [
    "The key to live animation in Jupyter is to use the `%matplotlib notebook` magic:"
   ]
  },
  {
   "cell_type": "code",
   "execution_count": 1,
   "metadata": {},
   "outputs": [],
   "source": [
    "%matplotlib widget\n",
    "import matplotlib.pyplot as plt"
   ]
  },
  {
   "cell_type": "markdown",
   "metadata": {},
   "source": [
    "If you use `%matplotlib inline` instead, you'll end up with a static image."
   ]
  },
  {
   "cell_type": "markdown",
   "metadata": {},
   "source": [
    "## Live BSF Curves"
   ]
  },
  {
   "cell_type": "markdown",
   "metadata": {},
   "source": [
    "We usually visualize things in LEAP the same way we measure anything: with a **probe operator**.\n",
    "\n",
    "When `PopulationPlotProbe` is inserted into an operator pipeline, it captures the whole population at each generation and plots a statistic from it.  By default, it measures the **best-of-generation fitness**.\n",
    "\n",
    "Next we'll create the probe operator.  It will automatically set up a figure and prepare to plot to it.  The probe will automatically scale the axes to ensure that the entire curve stays within view, but here we'llmanually set the initial `ylim` bounds to add more space:"
   ]
  },
  {
   "cell_type": "code",
   "execution_count": 4,
   "metadata": {},
   "outputs": [
    {
     "data": {
      "application/vnd.jupyter.widget-view+json": {
       "model_id": "27f31881eec647aab97eecd6da09fb3b",
       "version_major": 2,
       "version_minor": 0
      },
      "text/plain": [
       "Canvas(toolbar=Toolbar(toolitems=[('Home', 'Reset original view', 'home', 'home'), ('Back', 'Back to previous …"
      ]
     },
     "metadata": {},
     "output_type": "display_data"
    }
   ],
   "source": [
    "from leap_ec.probe import FitnessPlotProbe\n",
    "\n",
    "# The probe needs access to a context object so that it can read the global generation counter\n",
    "plot_probe = FitnessPlotProbe(ylim=(0, 70))"
   ]
  },
  {
   "cell_type": "markdown",
   "metadata": {},
   "source": [
    "Not much is happening yet.  We've created the probe and attached it to a figure—but it **still needs an algorithm!**\n",
    "\n",
    "Let's run a simple generational, real-valued EA to solve the `Spheroid` function.  We want the population to pass through the probe at each iteration, so that it can collect data for the y-coordinate.  We achieve this by inserting it at the end of the operator pipeline:\n",
    " \n",
    " ```Python\n",
    " pipeline=[\n",
    "           ...,\n",
    "           ops.pool(size=pop_size),\n",
    "           plot_probe\n",
    "       ]\n",
    " ```\n",
    "\n",
    "We put the probe right after `ops.pool` because the probe needs to receive the **population** all at once, instead of of one individual at a time (`ops.pool` takes a stream of generated individuals and makes a population from it)."
   ]
  },
  {
   "cell_type": "code",
   "execution_count": 9,
   "metadata": {},
   "outputs": [],
   "source": [
    "from leap_ec.algorithm import generational_ea\n",
    "from leap_ec.individual import Individual\n",
    "from leap_ec.decoder import IdentityDecoder\n",
    "from leap_ec.representation import Representation\n",
    "import leap_ec.ops as ops\n",
    "\n",
    "\n",
    "from leap_ec.real_rep.problems import SpheroidProblem, SchwefelProblem\n",
    "from leap_ec.real_rep.ops import mutate_gaussian\n",
    "from leap_ec.real_rep.initializers import create_real_vector\n",
    "\n",
    "l=10\n",
    "pop_size=10\n",
    "ea = generational_ea(max_generations=100, pop_size=pop_size,\n",
    "                     problem=SpheroidProblem(maximize=False),\n",
    "                     \n",
    "                     representation=Representation(\n",
    "                         individual_cls=Individual,\n",
    "                         decoder=IdentityDecoder(),\n",
    "                         initialize=create_real_vector(bounds=[[-5.12, 5.12]] * l)\n",
    "                     ),\n",
    "\n",
    "                     pipeline=[\n",
    "                         ops.tournament_selection,\n",
    "                         ops.clone,\n",
    "                         mutate_gaussian(std=0.5, expected_num_mutations='isotropic'),\n",
    "                         ops.evaluate,\n",
    "                         ops.pool(size=pop_size),\n",
    "                         plot_probe  # Insert the probe into the pipeline like so\n",
    "                     ])\n",
    "list(ea);"
   ]
  },
  {
   "cell_type": "markdown",
   "metadata": {},
   "source": [
    "Scroll up to the previous cell while the algorithm is running—the live results get placed there, thanks to the callbacks on `plot_probe`!"
   ]
  },
  {
   "cell_type": "markdown",
   "metadata": {},
   "source": [
    "## Viewing Fitness Functions"
   ]
  },
  {
   "cell_type": "markdown",
   "metadata": {},
   "source": [
    "When dealing with basic benchmark functions, we very often want to take a look at the problem we're solving (at the very least to make sure we're solving the right one!).\n",
    "\n",
    "To save you typing with `matplotlib`, LEAP offers convenience methods for plotting real-valued fitness surfaces.\n",
    "\n",
    "Here's how we'd view a surface plot for the `SpheroidProblem`:"
   ]
  },
  {
   "cell_type": "code",
   "execution_count": 10,
   "metadata": {},
   "outputs": [
    {
     "data": {
      "application/vnd.jupyter.widget-view+json": {
       "model_id": "763797d226ab4e0db6bfeb4527ab4eeb",
       "version_major": 2,
       "version_minor": 0
      },
      "text/plain": [
       "Canvas(toolbar=Toolbar(toolitems=[('Home', 'Reset original view', 'home', 'home'), ('Back', 'Back to previous …"
      ]
     },
     "metadata": {},
     "output_type": "display_data"
    }
   ],
   "source": [
    "from leap_ec.real_rep.problems import plot_2d_problem\n",
    "\n",
    "plot_2d_problem(SpheroidProblem(), xlim=(-5.12, 5.12), ylim=(-5.12, 5.12));"
   ]
  },
  {
   "cell_type": "markdown",
   "metadata": {},
   "source": [
    "You can also plot a function's fitness contours.\n",
    "\n",
    "This time we'll explicitly set up a `matplotlib` figure and tell `plot_2d_problem` to plot to its axes (with the `ax=plt.gca()` parameter).  This allows us to configure subplots and arrange them side-by-side (using standard `matplotlib` foo:"
   ]
  },
  {
   "cell_type": "code",
   "execution_count": 11,
   "metadata": {},
   "outputs": [
    {
     "data": {
      "application/vnd.jupyter.widget-view+json": {
       "model_id": "9b5bbabfaff74f7e9e9c34dcc556242b",
       "version_major": 2,
       "version_minor": 0
      },
      "text/plain": [
       "Canvas(toolbar=Toolbar(toolitems=[('Home', 'Reset original view', 'home', 'home'), ('Back', 'Back to previous …"
      ]
     },
     "metadata": {},
     "output_type": "display_data"
    }
   ],
   "source": [
    "problem = SchwefelProblem()\n",
    "bounds = problem.bounds\n",
    "\n",
    "fig = plt.figure(figsize=(8, 3))\n",
    "\n",
    "plt.subplot(121, projection='3d')\n",
    "plot_2d_problem(problem, xlim=bounds, ylim=bounds, ax=plt.gca())\n",
    "\n",
    "plt.subplot(122)\n",
    "plot_2d_problem(problem, kind='contour', xlim=bounds, ylim=bounds, ax=plt.gca());"
   ]
  },
  {
   "cell_type": "markdown",
   "metadata": {},
   "source": [
    "## Viewing Population Trajectories\n",
    "\n"
   ]
  },
  {
   "cell_type": "code",
   "execution_count": 18,
   "metadata": {},
   "outputs": [
    {
     "data": {
      "application/vnd.jupyter.widget-view+json": {
       "model_id": "a400e7d7ae604238b58f9035004ed4f5",
       "version_major": 2,
       "version_minor": 0
      },
      "text/plain": [
       "Canvas(toolbar=Toolbar(toolitems=[('Home', 'Reset original view', 'home', 'home'), ('Back', 'Back to previous …"
      ]
     },
     "metadata": {},
     "output_type": "display_data"
    }
   ],
   "source": [
    "from leap_ec.probe import CartesianPhenotypePlotProbe\n",
    "\n",
    "plt.figure(figsize=(8, 3))  # Setup a figure to plot to\n",
    "\n",
    "plt.subplot(121)\n",
    "trajectory_probe = CartesianPhenotypePlotProbe(contours=problem, ax=plt.gca(), xlim=bounds, ylim=bounds)\n",
    "\n",
    "plt.subplot(122)\n",
    "fitness_probe = FitnessPlotProbe(ax=plt.gca())"
   ]
  },
  {
   "cell_type": "code",
   "execution_count": 19,
   "metadata": {},
   "outputs": [],
   "source": [
    "from leap_ec.algorithm import generational_ea\n",
    "\n",
    "l=10\n",
    "pop_size=10\n",
    "ea = generational_ea(max_generations=100, pop_size=pop_size,\n",
    "                     problem=SpheroidProblem(maximize=False),\n",
    "                     \n",
    "                     representation=Representation(\n",
    "                         decoder=IdentityDecoder(),\n",
    "                         initialize=create_real_vector(bounds=[problem.bounds] * l)\n",
    "                     ),\n",
    "\n",
    "                     pipeline=[\n",
    "                         ops.tournament_selection,\n",
    "                         ops.clone,\n",
    "                         mutate_gaussian(std=50, expected_num_mutations='isotropic', hard_bounds=problem.bounds),\n",
    "                         ops.evaluate,\n",
    "                         ops.pool(size=pop_size),\n",
    "                         trajectory_probe,  # Insert the probes into the pipeline like so\n",
    "                         fitness_probe\n",
    "                     ])\n",
    "list(ea);"
   ]
  },
  {
   "cell_type": "code",
   "execution_count": null,
   "metadata": {},
   "outputs": [],
   "source": []
  }
 ],
 "metadata": {
  "kernelspec": {
   "display_name": "Python 3",
   "language": "python",
   "name": "python3"
  },
  "language_info": {
   "codemirror_mode": {
    "name": "ipython",
    "version": 3
   },
   "file_extension": ".py",
   "mimetype": "text/x-python",
   "name": "python",
   "nbconvert_exporter": "python",
   "pygments_lexer": "ipython3",
   "version": "3.9.4"
  }
 },
 "nbformat": 4,
 "nbformat_minor": 4
}
