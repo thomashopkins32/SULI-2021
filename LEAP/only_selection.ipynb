{
 "cells": [
  {
   "cell_type": "markdown",
   "id": "6780bf66-15ca-4949-b3dd-f1ea681379cf",
   "metadata": {},
   "source": [
    "# **Convergence of Selection to Uniform Populations**\n",
    "In this notebook I will explore simple evolutionary algorithms using only selection operators (no mutation/crossover).\n",
    "\n",
    "The expected result for each algorithm is to have a uniform population where all of the individuals are the same.\n",
    "\n",
    "TODO: selection operators that return lists don't seem to be working with `pipe()`, see Truncation Selection."
   ]
  },
  {
   "cell_type": "code",
   "execution_count": 1,
   "id": "0b193bc7-08fe-41c8-b369-61c013da738f",
   "metadata": {},
   "outputs": [],
   "source": [
    "from toolz import pipe\n",
    "from tqdm import tqdm\n",
    "import matplotlib.pyplot as plt\n",
    "\n",
    "from leap_ec.individual import Individual\n",
    "from leap_ec.decoder import IdentityDecoder\n",
    "from leap_ec.context import context\n",
    "\n",
    "import leap_ec.ops as ops\n",
    "from leap_ec.real_rep.problems import SpheroidProblem\n",
    "from leap_ec.real_rep.initializers import create_real_vector\n",
    "from leap_ec import util"
   ]
  },
  {
   "cell_type": "markdown",
   "id": "7f895602-fb77-4cca-9692-fd121042ba82",
   "metadata": {},
   "source": [
    "# **Problem & Representation**\n",
    "The problem is simple 2-D spheroid problem.\n",
    "\n",
    "The genome of each individual is a 2 dimensional real vector.\n",
    "\n",
    "Each type of selection will involve running with the following parameters:\n",
    "- population_size: 10\n",
    "- selection only (no mutation/crossover)"
   ]
  },
  {
   "cell_type": "code",
   "execution_count": 11,
   "id": "2917789b-678b-46ab-bf11-ef7454a08de0",
   "metadata": {},
   "outputs": [],
   "source": [
    "def genome_diff(population):\n",
    "    ''' Computes | max(population) - min(population) | '''\n",
    "    genomes = [ind.genome[0] for ind in population]\n",
    "    return abs(max(genomes) - min(genomes))\n",
    "\n",
    "\n",
    "def run_with_selection(select_op, **kwargs):\n",
    "    ''' Performs 50,000 runs of selection only evolution '''\n",
    "    avg_gen = 0\n",
    "    for i in tqdm(range(50000)):\n",
    "        # create population\n",
    "        parents = Individual.create_population(10, initialize=create_real_vector([(-5.12, 5.12), (-5.12, 5.12)]),\n",
    "                                               decoder=IdentityDecoder(), problem=SpheroidProblem())\n",
    "\n",
    "        # evaulate current population\n",
    "        parents = Individual.evaluate_population(parents)\n",
    "\n",
    "        generation_counter = util.inc_generation(context=context)\n",
    "\n",
    "        while genome_diff(parents) != 0.0:\n",
    "            offspring = pipe(parents,\n",
    "                             lambda x: select_op(x, **kwargs),\n",
    "                             ops.clone,\n",
    "                             ops.evaluate,\n",
    "                             ops.pool(size=len(parents))\n",
    "                             )\n",
    "            parents = offspring\n",
    "            generation_counter()\n",
    "        avg_gen += ((context['leap']['generation'] - avg_gen)/(i+1))\n",
    "\n",
    "    print(f'Average generation until uniform: {avg_gen}')"
   ]
  },
  {
   "cell_type": "markdown",
   "id": "b9bdd7e7-acd0-4542-b8ef-aa2777472639",
   "metadata": {},
   "source": [
    "## **Random Selection**\n",
    "Random selection converges to a uniform generation in ~17.6 generations."
   ]
  },
  {
   "cell_type": "code",
   "execution_count": 12,
   "id": "ceea7a45-b521-43a6-b5a6-e2a65261a34e",
   "metadata": {},
   "outputs": [
    {
     "name": "stderr",
     "output_type": "stream",
     "text": [
      "100%|██████████| 50000/50000 [01:00<00:00, 831.62it/s]"
     ]
    },
    {
     "name": "stdout",
     "output_type": "stream",
     "text": [
      "Average generation until uniform: 17.561719999999923\n"
     ]
    },
    {
     "name": "stderr",
     "output_type": "stream",
     "text": [
      "\n"
     ]
    }
   ],
   "source": [
    "run_with_selection(ops.random_selection)"
   ]
  },
  {
   "cell_type": "markdown",
   "id": "a252c955-6688-47d4-8584-43045b797cf1",
   "metadata": {},
   "source": [
    "## **Tournament Selection**\n",
    "Tournament selection converges to a uniform population in ~5.2 generations."
   ]
  },
  {
   "cell_type": "code",
   "execution_count": 16,
   "id": "4b2da0f9-f974-4c22-8de4-9a417c7a2cab",
   "metadata": {},
   "outputs": [
    {
     "name": "stderr",
     "output_type": "stream",
     "text": [
      "100%|██████████| 50000/50000 [00:24<00:00, 2000.33it/s]"
     ]
    },
    {
     "name": "stdout",
     "output_type": "stream",
     "text": [
      "Average generation until uniform: 5.213119999999976\n"
     ]
    },
    {
     "name": "stderr",
     "output_type": "stream",
     "text": [
      "\n"
     ]
    }
   ],
   "source": [
    "run_with_selection(ops.tournament_selection, k=2)"
   ]
  },
  {
   "cell_type": "markdown",
   "id": "6ac87c23-7c41-4b5a-9237-603c8ddf042b",
   "metadata": {},
   "source": [
    "## **Truncation Selection**\n",
    "Truncation selection converges to a uniform population in ~ generations.\n",
    "\n",
    "NOTE: Not working I think because it returns a `List` instead of `Iterator`."
   ]
  },
  {
   "cell_type": "code",
   "execution_count": 17,
   "id": "37d25354-4d82-4584-beea-daf897064d4d",
   "metadata": {},
   "outputs": [],
   "source": [
    "# run_with_selection(ops.truncation_selection, size=5)"
   ]
  },
  {
   "cell_type": "markdown",
   "id": "57ff0eee-71cd-4113-986f-edc94c9b7e5b",
   "metadata": {},
   "source": [
    "## **Cyclic Selection**\n",
    "Cyclic selection converges to a uniform population in ~ generations.\n",
    "\n",
    "NOTE: Not working because it is taking too long to run. I guess this one is not converging?"
   ]
  },
  {
   "cell_type": "code",
   "execution_count": 20,
   "id": "5e481785-b9b8-45f9-8a18-21738bcf8560",
   "metadata": {},
   "outputs": [],
   "source": [
    "# run_with_selection(ops.naive_cyclic_selection)"
   ]
  },
  {
   "cell_type": "code",
   "execution_count": null,
   "id": "d94cfe92-85a1-4068-b951-a0d52a4f66a4",
   "metadata": {},
   "outputs": [],
   "source": []
  }
 ],
 "metadata": {
  "kernelspec": {
   "display_name": "Python 3",
   "language": "python",
   "name": "python3"
  },
  "language_info": {
   "codemirror_mode": {
    "name": "ipython",
    "version": 3
   },
   "file_extension": ".py",
   "mimetype": "text/x-python",
   "name": "python",
   "nbconvert_exporter": "python",
   "pygments_lexer": "ipython3",
   "version": "3.9.4"
  }
 },
 "nbformat": 4,
 "nbformat_minor": 5
}
