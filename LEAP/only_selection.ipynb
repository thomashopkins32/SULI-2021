{
 "cells": [
  {
   "cell_type": "markdown",
   "id": "6780bf66-15ca-4949-b3dd-f1ea681379cf",
   "metadata": {},
   "source": [
    "# **Convergence of Selection to Uniform Populations**\n",
    "In this notebook I will explore simple evolutionary algorithms using only selection operators (no mutation/crossover).\n",
    "\n",
    "The expected result for each algorithm is to have a uniform population where all of the individuals are the same."
   ]
  },
  {
   "cell_type": "code",
   "execution_count": 1,
   "id": "0b193bc7-08fe-41c8-b369-61c013da738f",
   "metadata": {},
   "outputs": [],
   "source": [
    "from toolz import pipe\n",
    "from tqdm import tqdm\n",
    "import matplotlib.pyplot as plt\n",
    "\n",
    "from leap_ec.individual import Individual\n",
    "from leap_ec.decoder import IdentityDecoder\n",
    "from leap_ec.global_vars import context\n",
    "\n",
    "import leap_ec.ops as ops\n",
    "from leap_ec.real_rep.problems import SpheroidProblem\n",
    "from leap_ec.real_rep.initializers import create_real_vector\n",
    "from leap_ec import util"
   ]
  },
  {
   "cell_type": "markdown",
   "id": "7f895602-fb77-4cca-9692-fd121042ba82",
   "metadata": {},
   "source": [
    "# **Problem & Representation**\n",
    "The problem is simple 2-D spheroid problem.\n",
    "\n",
    "The genome of each individual is a 2 dimensional real vector.\n",
    "\n",
    "Each type of selection will involve running with the following parameters:\n",
    "- population_size: 10\n",
    "- selection only (no mutation/crossover)"
   ]
  },
  {
   "cell_type": "code",
   "execution_count": 2,
   "id": "2917789b-678b-46ab-bf11-ef7454a08de0",
   "metadata": {},
   "outputs": [],
   "source": [
    "def genome_diff(population):\n",
    "    ''' Computes | max(population) - min(population) | '''\n",
    "    genomes = [ind.genome[0] for ind in population]\n",
    "    return abs(max(genomes) - min(genomes))"
   ]
  },
  {
   "cell_type": "markdown",
   "id": "b9bdd7e7-acd0-4542-b8ef-aa2777472639",
   "metadata": {},
   "source": [
    "## **Random Selection**\n",
    "Random selection converges to a uniform generation in ~17.5 generations."
   ]
  },
  {
   "cell_type": "code",
   "execution_count": 3,
   "id": "ceea7a45-b521-43a6-b5a6-e2a65261a34e",
   "metadata": {},
   "outputs": [
    {
     "name": "stderr",
     "output_type": "stream",
     "text": [
      "100%|██████████| 50000/50000 [01:52<00:00, 446.31it/s]"
     ]
    },
    {
     "name": "stdout",
     "output_type": "stream",
     "text": [
      "Average generation until uniform: 17.53100000000013\n"
     ]
    },
    {
     "name": "stderr",
     "output_type": "stream",
     "text": [
      "\n"
     ]
    }
   ],
   "source": [
    "avg_gen = 0\n",
    "for i in tqdm(range(50000)):\n",
    "    # create population\n",
    "    parents = Individual.create_population(10, initialize=create_real_vector([(-5.12, 5.12), (-5.12, 5.12)]),\n",
    "                                           decoder=IdentityDecoder(), problem=SpheroidProblem())\n",
    "\n",
    "    # evaulate current population\n",
    "    parents = Individual.evaluate_population(parents)\n",
    "\n",
    "    generation_counter = util.inc_generation(context=context)\n",
    "\n",
    "    while genome_diff(parents) != 0.0:\n",
    "        offspring = pipe(parents,\n",
    "                         ops.random_selection(),\n",
    "                         ops.clone,\n",
    "                         ops.evaluate,\n",
    "                         ops.pool(size=len(parents))\n",
    "                         )\n",
    "        parents = offspring\n",
    "        generation_counter()\n",
    "    avg_gen += ((context['leap']['generation'] - avg_gen)/(i+1))\n",
    "\n",
    "print(f'Average generation until uniform: {avg_gen}')"
   ]
  },
  {
   "cell_type": "markdown",
   "id": "a252c955-6688-47d4-8584-43045b797cf1",
   "metadata": {},
   "source": [
    "## **Tournament Selection**\n",
    "Tournament selection converges to a uniform population in ~5.2 generations."
   ]
  },
  {
   "cell_type": "code",
   "execution_count": 4,
   "id": "4b2da0f9-f974-4c22-8de4-9a417c7a2cab",
   "metadata": {},
   "outputs": [
    {
     "name": "stderr",
     "output_type": "stream",
     "text": [
      "100%|██████████| 50000/50000 [00:54<00:00, 913.78it/s] "
     ]
    },
    {
     "name": "stdout",
     "output_type": "stream",
     "text": [
      "Average generation until uniform: 5.213879999999986\n"
     ]
    },
    {
     "name": "stderr",
     "output_type": "stream",
     "text": [
      "\n"
     ]
    }
   ],
   "source": [
    "avg_gen = 0\n",
    "for i in tqdm(range(50000)):\n",
    "    # create population\n",
    "    parents = Individual.create_population(10, initialize=create_real_vector([(-5.12, 5.12), (-5.12, 5.12)]),\n",
    "                                           decoder=IdentityDecoder(), problem=SpheroidProblem())\n",
    "\n",
    "    # evaulate current population\n",
    "    parents = Individual.evaluate_population(parents)\n",
    "\n",
    "    generation_counter = util.inc_generation(context=context)\n",
    "\n",
    "    while genome_diff(parents) != 0.0:\n",
    "        offspring = pipe(parents,\n",
    "                         ops.tournament_selection(k=2),\n",
    "                         ops.clone,\n",
    "                         ops.evaluate,\n",
    "                         ops.pool(size=len(parents))\n",
    "                         )\n",
    "        parents = offspring\n",
    "        generation_counter()\n",
    "    avg_gen += ((context['leap']['generation'] - avg_gen)/(i+1))\n",
    "\n",
    "print(f'Average generation until uniform: {avg_gen}')"
   ]
  },
  {
   "cell_type": "markdown",
   "id": "6ac87c23-7c41-4b5a-9237-603c8ddf042b",
   "metadata": {},
   "source": [
    "## **Truncation Selection**\n",
    "Truncation selection converges to a uniform population in ~4.0 generations."
   ]
  },
  {
   "cell_type": "code",
   "execution_count": 5,
   "id": "37d25354-4d82-4584-beea-daf897064d4d",
   "metadata": {},
   "outputs": [
    {
     "name": "stderr",
     "output_type": "stream",
     "text": [
      "100%|██████████| 50000/50000 [00:40<00:00, 1234.89it/s]"
     ]
    },
    {
     "name": "stdout",
     "output_type": "stream",
     "text": [
      "Average generation until uniform: 4.0\n"
     ]
    },
    {
     "name": "stderr",
     "output_type": "stream",
     "text": [
      "\n"
     ]
    }
   ],
   "source": [
    "avg_gen = 0\n",
    "for i in tqdm(range(50000)):\n",
    "    # create population\n",
    "    parents = Individual.create_population(10, initialize=create_real_vector([(-5.12, 5.12), (-5.12, 5.12)]),\n",
    "                                           decoder=IdentityDecoder(), problem=SpheroidProblem())\n",
    "\n",
    "    # evaulate current population\n",
    "    parents = Individual.evaluate_population(parents)\n",
    "\n",
    "    generation_counter = util.inc_generation(context=context)\n",
    "\n",
    "    while genome_diff(parents) != 0.0:\n",
    "        offspring = pipe(parents,\n",
    "                         ops.cyclic_selection,\n",
    "                         ops.clone,\n",
    "                         ops.evaluate,\n",
    "                         ops.pool(size=len(parents)),\n",
    "                         ops.truncation_selection(size=len(parents), parents=parents)\n",
    "                        )\n",
    "        parents = offspring\n",
    "        generation_counter()\n",
    "    avg_gen += ((context['leap']['generation'] - avg_gen)/(i+1))\n",
    "\n",
    "print(f'Average generation until uniform: {avg_gen}')"
   ]
  },
  {
   "cell_type": "markdown",
   "id": "57ff0eee-71cd-4113-986f-edc94c9b7e5b",
   "metadata": {},
   "source": [
    "## **Proportional Selection**\n",
    "Proportional selection converges to a uniform population in ~11.0 generations."
   ]
  },
  {
   "cell_type": "code",
   "execution_count": 6,
   "id": "5e481785-b9b8-45f9-8a18-21738bcf8560",
   "metadata": {},
   "outputs": [
    {
     "name": "stderr",
     "output_type": "stream",
     "text": [
      "100%|██████████| 50000/50000 [01:43<00:00, 481.98it/s]"
     ]
    },
    {
     "name": "stdout",
     "output_type": "stream",
     "text": [
      "Average generation until uniform: 10.95469999999996\n"
     ]
    },
    {
     "name": "stderr",
     "output_type": "stream",
     "text": [
      "\n"
     ]
    }
   ],
   "source": [
    "avg_gen = 0\n",
    "for i in tqdm(range(50000)):\n",
    "    # create population\n",
    "    parents = Individual.create_population(10, initialize=create_real_vector([(-5.12, 5.12), (-5.12, 5.12)]),\n",
    "                                           decoder=IdentityDecoder(), problem=SpheroidProblem())\n",
    "\n",
    "    # evaulate current population\n",
    "    parents = Individual.evaluate_population(parents)\n",
    "\n",
    "    generation_counter = util.inc_generation(context=context)\n",
    "\n",
    "    while genome_diff(parents) != 0.0:\n",
    "        offspring = pipe(parents,\n",
    "                         ops.proportional_selection,\n",
    "                         ops.clone,\n",
    "                         ops.evaluate,\n",
    "                         ops.pool(size=len(parents))\n",
    "                         )\n",
    "        parents = offspring\n",
    "        generation_counter()\n",
    "    avg_gen += ((context['leap']['generation'] - avg_gen)/(i+1))\n",
    "\n",
    "print(f'Average generation until uniform: {avg_gen}')"
   ]
  },
  {
   "cell_type": "markdown",
   "id": "2df2d511-84e5-41f0-a7c9-e8fc92f46bf1",
   "metadata": {},
   "source": [
    "## **Stochastic Universal Sampling Selection**\n",
    "SUS selection converges to a uniform population in ~14.2 generations."
   ]
  },
  {
   "cell_type": "code",
   "execution_count": 7,
   "id": "bc4b7a86-80fd-47df-9c35-38d5179ebf6a",
   "metadata": {},
   "outputs": [
    {
     "name": "stderr",
     "output_type": "stream",
     "text": [
      "100%|██████████| 50000/50000 [02:17<00:00, 363.76it/s]"
     ]
    },
    {
     "name": "stdout",
     "output_type": "stream",
     "text": [
      "Average generation until uniform: 14.174540000000077\n"
     ]
    },
    {
     "name": "stderr",
     "output_type": "stream",
     "text": [
      "\n"
     ]
    }
   ],
   "source": [
    "avg_gen = 0\n",
    "for i in tqdm(range(50000)):\n",
    "    # create population\n",
    "    parents = Individual.create_population(10, initialize=create_real_vector([(-5.12, 5.12), (-5.12, 5.12)]),\n",
    "                                           decoder=IdentityDecoder(), problem=SpheroidProblem())\n",
    "\n",
    "    # evaulate current population\n",
    "    parents = Individual.evaluate_population(parents)\n",
    "\n",
    "    generation_counter = util.inc_generation(context=context)\n",
    "\n",
    "    while genome_diff(parents) != 0.0:\n",
    "        offspring = pipe(parents,\n",
    "                         ops.sus_selection(n=4),\n",
    "                         ops.clone,\n",
    "                         ops.evaluate,\n",
    "                         ops.pool(size=len(parents))\n",
    "                         )\n",
    "        parents = offspring\n",
    "        generation_counter()\n",
    "    avg_gen += ((context['leap']['generation'] - avg_gen)/(i+1))\n",
    "\n",
    "print(f'Average generation until uniform: {avg_gen}')"
   ]
  }
 ],
 "metadata": {
  "kernelspec": {
   "display_name": "Python 3",
   "language": "python",
   "name": "python3"
  },
  "language_info": {
   "codemirror_mode": {
    "name": "ipython",
    "version": 3
   },
   "file_extension": ".py",
   "mimetype": "text/x-python",
   "name": "python",
   "nbconvert_exporter": "python",
   "pygments_lexer": "ipython3",
   "version": "3.9.4"
  }
 },
 "nbformat": 4,
 "nbformat_minor": 5
}
