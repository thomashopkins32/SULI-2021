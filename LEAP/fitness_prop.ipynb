{
 "cells": [
  {
   "cell_type": "markdown",
   "id": "fc7753f9-0f86-4d43-8978-670f87c2d50e",
   "metadata": {},
   "source": [
    "# **Fitness Proportional Selection**\n",
    "This notebook does some basic tests with the various parameters of fitness proportional selection."
   ]
  },
  {
   "cell_type": "code",
   "execution_count": 1,
   "id": "9783eb71-a0a4-4008-9a8a-57e605bb7402",
   "metadata": {},
   "outputs": [],
   "source": [
    "from leap_ec.algorithm import generational_ea\n",
    "from leap_ec import ops, decoder, representation\n",
    "from leap_ec.binary_rep import initializers\n",
    "from leap_ec.binary_rep import problems\n",
    "from leap_ec.binary_rep.ops import mutate_bitflip\n"
   ]
  },
  {
   "cell_type": "markdown",
   "id": "bde34f19-5bce-4530-b479-af01d803a435",
   "metadata": {},
   "source": [
    "## Base Settings"
   ]
  },
  {
   "cell_type": "code",
   "execution_count": 4,
   "id": "91f43843-504b-4977-b82e-3a0f32c5d5c6",
   "metadata": {},
   "outputs": [
    {
     "name": "stdout",
     "output_type": "stream",
     "text": [
      "Generation, Best_Individual\n",
      "0, [0, 1, 1, 0, 1, 1, 1, 1, 1, 0] 7\n",
      "1, [0, 1, 1, 0, 1, 1, 1, 1, 1, 0] 7\n",
      "2, [0, 1, 1, 1, 1, 1, 1, 1, 1, 1] 9\n",
      "3, [0, 1, 1, 1, 1, 1, 1, 1, 1, 1] 9\n",
      "4, [0, 1, 1, 1, 1, 1, 1, 1, 1, 1] 9\n",
      "5, [0, 1, 1, 1, 1, 1, 1, 1, 1, 1] 9\n",
      "6, [0, 1, 1, 1, 1, 1, 1, 1, 1, 1] 9\n",
      "7, [0, 1, 1, 1, 1, 1, 1, 1, 1, 1] 9\n",
      "8, [0, 1, 1, 1, 1, 1, 1, 1, 1, 1] 9\n",
      "9, [0, 1, 1, 1, 1, 1, 1, 1, 1, 1] 9\n",
      "10, [0, 1, 1, 1, 1, 1, 1, 1, 1, 1] 9\n"
     ]
    }
   ],
   "source": [
    "pop_size = 5\n",
    "ea = generational_ea(max_generations=10, pop_size=pop_size,\n",
    "                     problem=problems.MaxOnes(),\n",
    "                     representation=representation.Representation(\n",
    "                        decoder=decoder.IdentityDecoder(),\n",
    "                         initialize=initializers.create_binary_sequence(length=10)\n",
    "                     ),\n",
    "                     pipeline=[ops.proportional_selection(),\n",
    "                               ops.clone,\n",
    "                               mutate_bitflip(expected_num_mutations=1),\n",
    "                               ops.uniform_crossover(p_swap=0.4),\n",
    "                               ops.evaluate,\n",
    "                               ops.pool(size=pop_size)\n",
    "                              ]\n",
    "                    )\n",
    "print('Generation, Best_Individual')\n",
    "for i, best in ea:\n",
    "    print(f'{i}, {best}')"
   ]
  },
  {
   "cell_type": "markdown",
   "id": "291b0b90-e050-4faa-819c-7351c619cec3",
   "metadata": {},
   "source": [
    "## Offset By Population Minimum"
   ]
  },
  {
   "cell_type": "code",
   "execution_count": 6,
   "id": "815d69af-cb98-46db-9282-3fb2d1f6c159",
   "metadata": {},
   "outputs": [
    {
     "name": "stdout",
     "output_type": "stream",
     "text": [
      "Generation, Best_Individual\n",
      "0, [1, 0, 1, 0, 1, 1, 1, 1, 1, 1] 8\n",
      "1, [1, 0, 1, 0, 1, 1, 1, 1, 1, 1] 8\n",
      "2, [1, 0, 1, 0, 1, 1, 1, 1, 1, 1] 8\n",
      "3, [1, 0, 1, 0, 1, 1, 1, 1, 1, 1] 8\n",
      "4, [1, 0, 1, 0, 1, 1, 1, 1, 1, 1] 8\n",
      "5, [1, 0, 1, 0, 1, 1, 1, 1, 1, 1] 8\n",
      "6, [1, 0, 1, 0, 1, 1, 1, 1, 1, 1] 8\n",
      "7, [1, 0, 1, 0, 1, 1, 1, 1, 1, 1] 8\n",
      "8, [1, 1, 1, 1, 1, 1, 1, 1, 0, 1] 9\n",
      "9, [1, 1, 1, 1, 1, 1, 1, 1, 0, 1] 9\n",
      "10, [1, 1, 1, 1, 1, 1, 1, 1, 0, 1] 9\n"
     ]
    }
   ],
   "source": [
    "pop_size = 5\n",
    "ea = generational_ea(max_generations=10, pop_size=pop_size,\n",
    "                     problem=problems.MaxOnes(),\n",
    "                     representation=representation.Representation(\n",
    "                        decoder=decoder.IdentityDecoder(),\n",
    "                         initialize=initializers.create_binary_sequence(length=10)\n",
    "                     ),\n",
    "                     pipeline=[ops.proportional_selection(offset='pop-min'),\n",
    "                               ops.clone,\n",
    "                               mutate_bitflip(expected_num_mutations=1),\n",
    "                               ops.uniform_crossover(p_swap=0.4),\n",
    "                               ops.evaluate,\n",
    "                               ops.pool(size=pop_size)\n",
    "                              ]\n",
    "                    )\n",
    "print('Generation, Best_Individual')\n",
    "for i, best in ea:\n",
    "    print(f'{i}, {best}')"
   ]
  },
  {
   "cell_type": "markdown",
   "id": "29ee08a0-77b3-4ad0-a033-ee5904b3320a",
   "metadata": {},
   "source": [
    "## Using Exponentitation"
   ]
  },
  {
   "cell_type": "code",
   "execution_count": 10,
   "id": "85dbcc07-0e07-4123-9a90-dc93a102ecfa",
   "metadata": {},
   "outputs": [
    {
     "name": "stdout",
     "output_type": "stream",
     "text": [
      "Generation, Best_Individual\n",
      "0, [1, 1, 1, 0, 0, 1, 0, 1, 0, 0] 5\n",
      "1, [0, 0, 0, 1, 1, 1, 1, 0, 1, 1] 6\n",
      "2, [0, 0, 0, 1, 1, 1, 1, 0, 1, 1] 6\n",
      "3, [0, 1, 1, 1, 1, 1, 1, 0, 0, 1] 7\n",
      "4, [0, 1, 1, 1, 1, 1, 1, 0, 0, 1] 7\n",
      "5, [0, 1, 1, 1, 1, 1, 1, 0, 0, 1] 7\n",
      "6, [0, 1, 1, 1, 1, 1, 1, 0, 0, 1] 7\n",
      "7, [1, 0, 1, 1, 1, 1, 1, 1, 1, 1] 9\n",
      "8, [1, 0, 1, 1, 1, 1, 1, 1, 1, 1] 9\n",
      "9, [1, 0, 1, 1, 1, 1, 1, 1, 1, 1] 9\n",
      "10, [1, 0, 1, 1, 1, 1, 1, 1, 1, 1] 9\n"
     ]
    }
   ],
   "source": [
    "pop_size = 5\n",
    "ea = generational_ea(max_generations=10, pop_size=pop_size,\n",
    "                     problem=problems.MaxOnes(),\n",
    "                     representation=representation.Representation(\n",
    "                        decoder=decoder.IdentityDecoder(),\n",
    "                         initialize=initializers.create_binary_sequence(length=10)\n",
    "                     ),\n",
    "                     pipeline=[ops.proportional_selection(exponent=5),\n",
    "                               ops.clone,\n",
    "                               mutate_bitflip(expected_num_mutations=1),\n",
    "                               ops.uniform_crossover(p_swap=0.4),\n",
    "                               ops.evaluate,\n",
    "                               ops.pool(size=pop_size)\n",
    "                              ]\n",
    "                    )\n",
    "print('Generation, Best_Individual')\n",
    "for i, best in ea:\n",
    "    print(f'{i}, {best}')"
   ]
  },
  {
   "cell_type": "markdown",
   "id": "eed0e7a6-123e-43ff-aaf3-67c4a63eeea4",
   "metadata": {},
   "source": [
    "## Using Different Metric"
   ]
  },
  {
   "cell_type": "code",
   "execution_count": 15,
   "id": "0989e722-b528-451e-adc1-d456cf145cef",
   "metadata": {},
   "outputs": [
    {
     "name": "stdout",
     "output_type": "stream",
     "text": [
      "Generation, Best_Individual\n",
      "0, [1, 1, 1, 1, 0, 1, 1, 1, 0, 0] 7\n",
      "1, [1, 1, 1, 1, 0, 1, 1, 1, 0, 0] 7\n",
      "2, [1, 1, 1, 1, 0, 1, 1, 1, 0, 0] 7\n",
      "3, [1, 1, 1, 1, 0, 1, 1, 1, 0, 0] 7\n",
      "4, [1, 1, 1, 1, 0, 1, 1, 1, 0, 0] 7\n",
      "5, [1, 1, 1, 1, 0, 1, 1, 1, 0, 0] 7\n",
      "6, [1, 1, 1, 1, 0, 1, 1, 1, 0, 0] 7\n",
      "7, [1, 1, 1, 1, 0, 1, 1, 1, 0, 0] 7\n",
      "8, [1, 1, 1, 1, 0, 1, 1, 1, 0, 0] 7\n",
      "9, [1, 1, 1, 1, 0, 1, 1, 1, 0, 0] 7\n",
      "10, [1, 1, 1, 1, 0, 1, 1, 1, 0, 0] 7\n"
     ]
    }
   ],
   "source": [
    "pop_size = 5\n",
    "ea = generational_ea(max_generations=10, pop_size=pop_size,\n",
    "                     problem=problems.MaxOnes(),\n",
    "                     representation=representation.Representation(\n",
    "                        decoder=decoder.IdentityDecoder(),\n",
    "                         initialize=initializers.create_binary_sequence(length=10)\n",
    "                     ),\n",
    "                     pipeline=[ops.proportional_selection(key=lambda x: 100*x.genome[0]),\n",
    "                               ops.clone,\n",
    "                               mutate_bitflip(expected_num_mutations=1),\n",
    "                               ops.uniform_crossover(p_swap=0.4),\n",
    "                               ops.evaluate,\n",
    "                               ops.pool(size=pop_size)\n",
    "                              ]\n",
    "                    )\n",
    "print('Generation, Best_Individual')\n",
    "for i, best in ea:\n",
    "    print(f'{i}, {best}')"
   ]
  },
  {
   "cell_type": "markdown",
   "id": "bdd21224-153c-4db3-92b4-bf300de1a04e",
   "metadata": {},
   "source": [
    "## Combining Offset and Exponentitation"
   ]
  },
  {
   "cell_type": "code",
   "execution_count": 16,
   "id": "cfcdf3d4-fd76-405c-b7ec-e489803c0ca3",
   "metadata": {},
   "outputs": [
    {
     "name": "stdout",
     "output_type": "stream",
     "text": [
      "Generation, Best_Individual\n",
      "0, [1, 1, 1, 1, 0, 0, 1, 1, 0, 1] 7\n",
      "1, [1, 1, 1, 1, 1, 0, 1, 1, 0, 1] 8\n",
      "2, [1, 1, 1, 1, 1, 0, 1, 1, 0, 1] 8\n",
      "3, [1, 1, 1, 1, 1, 0, 1, 1, 0, 1] 8\n",
      "4, [1, 1, 1, 1, 1, 0, 1, 1, 0, 1] 8\n",
      "5, [1, 1, 1, 1, 1, 1, 0, 1, 1, 1] 9\n",
      "6, [1, 1, 1, 1, 1, 1, 0, 1, 1, 1] 9\n",
      "7, [1, 1, 1, 1, 1, 1, 0, 1, 1, 1] 9\n",
      "8, [1, 1, 1, 1, 1, 1, 0, 1, 1, 1] 9\n",
      "9, [1, 1, 1, 1, 1, 1, 0, 1, 1, 1] 9\n",
      "10, [1, 1, 1, 1, 1, 1, 0, 1, 1, 1] 9\n"
     ]
    }
   ],
   "source": [
    "pop_size = 5\n",
    "ea = generational_ea(max_generations=10, pop_size=pop_size,\n",
    "                     problem=problems.MaxOnes(),\n",
    "                     representation=representation.Representation(\n",
    "                        decoder=decoder.IdentityDecoder(),\n",
    "                         initialize=initializers.create_binary_sequence(length=10)\n",
    "                     ),\n",
    "                     pipeline=[ops.proportional_selection(offset=20, exponent=2),\n",
    "                               ops.clone,\n",
    "                               mutate_bitflip(expected_num_mutations=1),\n",
    "                               ops.uniform_crossover(p_swap=0.4),\n",
    "                               ops.evaluate,\n",
    "                               ops.pool(size=pop_size)\n",
    "                              ]\n",
    "                    )\n",
    "print('Generation, Best_Individual')\n",
    "for i, best in ea:\n",
    "    print(f'{i}, {best}')"
   ]
  },
  {
   "cell_type": "code",
   "execution_count": null,
   "id": "2280a474-4631-4f5b-94d7-cb52534e8b12",
   "metadata": {},
   "outputs": [],
   "source": []
  }
 ],
 "metadata": {
  "kernelspec": {
   "display_name": "Python 3",
   "language": "python",
   "name": "python3"
  },
  "language_info": {
   "codemirror_mode": {
    "name": "ipython",
    "version": 3
   },
   "file_extension": ".py",
   "mimetype": "text/x-python",
   "name": "python",
   "nbconvert_exporter": "python",
   "pygments_lexer": "ipython3",
   "version": "3.9.4"
  }
 },
 "nbformat": 4,
 "nbformat_minor": 5
}
