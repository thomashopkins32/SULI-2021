{
 "cells": [
  {
   "cell_type": "markdown",
   "id": "46a56b2b-d945-47b8-a504-dc62ed09dba3",
   "metadata": {},
   "source": [
    "# **EAs with crossover only**\n",
    "Experiment to try running an evolutionary algorithm with only crossover to see how the population adapts."
   ]
  },
  {
   "cell_type": "code",
   "execution_count": 1,
   "id": "ad18981e-43c9-4bf9-86ff-db2b398887b7",
   "metadata": {},
   "outputs": [],
   "source": [
    "%matplotlib widget\n",
    "from toolz import pipe\n",
    "\n",
    "from leap_ec.problem import ConstantProblem\n",
    "from leap_ec.individual import Individual\n",
    "from leap_ec.decoder import IdentityDecoder\n",
    "from leap_ec.context import context\n",
    "from leap_ec.probe import PlotTrajectoryProbe\n",
    "import leap_ec.ops as ops\n",
    "from leap_ec.real_rep.initializers import create_real_vector\n",
    "from leap_ec import util"
   ]
  },
  {
   "cell_type": "markdown",
   "id": "1f8140c5-ab58-45d7-8960-67b8b38d4eb5",
   "metadata": {},
   "source": [
    "## **Problem & Representation**\n",
    "The problem will be a ConstantProblem, which returns the same fitness for each individual. Selection operator will be uniformly random. We only care about crossover so we will look at uniform crossover with a variety of probabilities. The genome of each individual will be a 2D real values vector. The initial population will have genomes with the same (x,y) coordinates i.e. (5,5), (-10,-10), etc.\n",
    "\n",
    "First, the bounds on the genome will be large `[-100, 100]`. On the second run, the bounds will be clamped to `[25, 50]`."
   ]
  },
  {
   "cell_type": "code",
   "execution_count": 23,
   "id": "651b1db3-6cf2-465a-a9f1-f8b4a5cb6142",
   "metadata": {},
   "outputs": [],
   "source": [
    "POP_SIZE = 100\n",
    "NUM_GENERATIONS = 1000\n",
    "CROSSOVER_PROB = 0.5"
   ]
  },
  {
   "cell_type": "code",
   "execution_count": 3,
   "id": "464c9db9-79bd-4080-88ac-44933650b3f2",
   "metadata": {},
   "outputs": [
    {
     "data": {
      "application/vnd.jupyter.widget-view+json": {
       "model_id": "7fa55b23afc14a12945350200f71bf9b",
       "version_major": 2,
       "version_minor": 0
      },
      "text/plain": [
       "Canvas(toolbar=Toolbar(toolitems=[('Home', 'Reset original view', 'home', 'home'), ('Back', 'Back to previous …"
      ]
     },
     "metadata": {},
     "output_type": "display_data"
    }
   ],
   "source": [
    "first_probe = PlotTrajectoryProbe(context, xlim=(-100, 100), ylim=(-100, 100))"
   ]
  },
  {
   "cell_type": "code",
   "execution_count": 24,
   "id": "13edf82e-44c8-45ff-b5f0-d90c5f54d368",
   "metadata": {},
   "outputs": [],
   "source": [
    "BOUNDS = [(-100, 100)]\n",
    "parents = Individual.create_population(POP_SIZE, initialize=create_real_vector(BOUNDS),\n",
    "                                       decoder=IdentityDecoder(),\n",
    "                                       problem=ConstantProblem())\n",
    "for ind in parents:\n",
    "    ind.genome *= 2\n",
    "parents = Individual.evaluate_population(parents)\n",
    "generation_counter = util.inc_generation(context=context)\n",
    "\n",
    "while generation_counter.generation() < NUM_GENERATIONS:\n",
    "    offspring = pipe(parents,\n",
    "                     ops.random_selection,\n",
    "                     ops.clone,\n",
    "                     ops.uniform_crossover(p_swap=CROSSOVER_PROB),\n",
    "                     ops.evaluate,\n",
    "                     ops.pool(size=len(parents)),\n",
    "                     first_probe\n",
    "                    )\n",
    "    parents = offspring\n",
    "    generation_counter()\n",
    "    "
   ]
  },
  {
   "cell_type": "markdown",
   "id": "0488a872-3de1-4144-a25f-cc24723b46f1",
   "metadata": {},
   "source": [
    "Now with the smaller bounds"
   ]
  },
  {
   "cell_type": "code",
   "execution_count": 5,
   "id": "89558140-6a0f-44ba-b0cb-abdad1e4f5b7",
   "metadata": {},
   "outputs": [],
   "source": [
    "second_probe = PlotTrajectoryProbe(context, xlim=(-100, 100), ylim=(-100, 100))"
   ]
  },
  {
   "cell_type": "code",
   "execution_count": 25,
   "id": "afa16d11-3038-4a17-8c90-06937c5473a0",
   "metadata": {},
   "outputs": [],
   "source": [
    "\n",
    "BOUNDS = [(25, 50)]\n",
    "parents = Individual.create_population(POP_SIZE, initialize=create_real_vector(BOUNDS),\n",
    "                                       decoder=IdentityDecoder(),\n",
    "                                       problem=ConstantProblem())\n",
    "\n",
    "for ind in parents:\n",
    "    ind.genome *= 2\n",
    "parents = Individual.evaluate_population(parents)\n",
    "generation_counter = util.inc_generation(context=context)\n",
    "\n",
    "while generation_counter.generation() < NUM_GENERATIONS:\n",
    "    offspring = pipe(parents,\n",
    "                     ops.random_selection,\n",
    "                     ops.clone,\n",
    "                     ops.uniform_crossover(p_swap=CROSSOVER_PROB),\n",
    "                     ops.evaluate,\n",
    "                     ops.pool(size=len(parents)),\n",
    "                     second_probe\n",
    "                    )\n",
    "    parents = offspring\n",
    "    generation_counter()\n",
    "    "
   ]
  },
  {
   "cell_type": "code",
   "execution_count": null,
   "id": "a4732092-213e-4aa2-977e-a3f6ac97225d",
   "metadata": {},
   "outputs": [],
   "source": []
  }
 ],
 "metadata": {
  "kernelspec": {
   "display_name": "Python 3",
   "language": "python",
   "name": "python3"
  },
  "language_info": {
   "codemirror_mode": {
    "name": "ipython",
    "version": 3
   },
   "file_extension": ".py",
   "mimetype": "text/x-python",
   "name": "python",
   "nbconvert_exporter": "python",
   "pygments_lexer": "ipython3",
   "version": "3.9.4"
  }
 },
 "nbformat": 4,
 "nbformat_minor": 5
}
